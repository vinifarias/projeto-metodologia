{
  "nbformat": 4,
  "nbformat_minor": 0,
  "metadata": {
    "colab": {
      "name": "analysis.ipynb",
      "provenance": [],
      "collapsed_sections": [
        "5LmqTVvySphB",
        "NE8CSQ2BScFR",
        "tCX_-nVmSmh7",
        "LmNgAceeSj2l",
        "xNVmy2SuSfi8",
        "CsIB_UF0SR70"
      ],
      "toc_visible": true,
      "include_colab_link": true
    },
    "kernelspec": {
      "name": "python3",
      "display_name": "Python 3"
    },
    "language_info": {
      "name": "python"
    }
  },
  "cells": [
    {
      "cell_type": "markdown",
      "metadata": {
        "id": "view-in-github",
        "colab_type": "text"
      },
      "source": [
        "<a href=\"https://colab.research.google.com/github/vinifarias/projeto-metodologia/blob/main/analysis.ipynb\" target=\"_parent\"><img src=\"https://colab.research.google.com/assets/colab-badge.svg\" alt=\"Open In Colab\"/></a>"
      ]
    },
    {
      "cell_type": "code",
      "metadata": {
        "colab": {
          "base_uri": "https://localhost:8080/",
          "height": 35
        },
        "id": "RrzpWWvfU3yI",
        "outputId": "0a3a1c53-3110-4f2f-d4ab-b6ef4e9a16cb"
      },
      "source": [
        "import pandas as pd\n",
        "from scipy.stats import normaltest, ttest_ind, ttest_rel\n",
        "pd.__version__"
      ],
      "execution_count": null,
      "outputs": [
        {
          "output_type": "execute_result",
          "data": {
            "application/vnd.google.colaboratory.intrinsic+json": {
              "type": "string"
            },
            "text/plain": [
              "'1.1.5'"
            ]
          },
          "metadata": {
            "tags": []
          },
          "execution_count": 40
        }
      ]
    },
    {
      "cell_type": "markdown",
      "metadata": {
        "id": "6UbykFu5UVX8"
      },
      "source": [
        "### Importação dos dados\n",
        "\n",
        "Os dados coletados foram obtidos através da survey: **[Análise dos fatores motivacionais durante o desenvolvimento de projetos das disciplinas do curso](https://https://docs.google.com/forms/d/16ckDiuOfJvoMbg4_YU8oUkvfk74kwHZOZH7vB6FVIp8)**. A pesquisa teve como objetivo o levantamento e a análise dos fatores motivacionais que influenciam/influenciaram os alunos de Ciência da Computalção da UFCG ao longo das disciplinas que envolvem o desenvolvimento de algum sistema, como Programação 2, Projeto de Software e Engenharia de Software. Abaixo você encontrará quais dados estão disponíveis em nosso *dataset* e o que eles representam.\n",
        "\n",
        "### course_period\n",
        "*Período do curso.*\n",
        "\n",
        "### well_defined_work_influence\n",
        "*Nível de influência de um trabalho bem definido.*\n",
        "\n",
        "Trabalho bem definido é aquele que possui tarefas sistemáticas com objetivos claros e requisitos bem definidos.\n",
        "\n",
        "\n",
        "### workload_influence\n",
        "*Nível de influência de uma carga de trabalho e responsabilidades justas e equilibradas.*\n",
        "\n",
        "\n",
        "### useful_knowledge_influence\n",
        "*Nível de influência do conhecimento útil.*\n",
        "\n",
        "Conhecimento útil é aquele conhecimento que pode ser adquirido com o projeto e que pode ser útil para a vida, carreira, etc.\n",
        "\n",
        "\n",
        "### social_impact_influence\n",
        "*Nível de influência do impacto social.*\n",
        "\n",
        "A percepção de que o projeto tem um impacto social, e pode beneficiar a vida de outras pessoas.\n",
        "\n",
        "### work_variety_influence\n",
        "*Nível de influência da variedade das tarefas.*\n",
        "\n",
        "A oportunidade de atuar em tarefas de diversos domínios como *front*, *back*, *design*, regras de negócio e gerência.\n",
        "\n",
        "\n",
        "### creative_work_influence\n",
        "*Nível de influência do trabalho criativo.*\n",
        "\n",
        "Trabalho criativo diz respeito àquele que envolve a criação de novas soluções para problemas novos e desafiadores.\n",
        "\n",
        "### challenging_work_influence\n",
        "*Nível de influência do trabalho desafiador.*\n",
        "\n",
        "Trabalho desafiador é aquele que envolve tarefas que desafiam, sem pressão, a crença de que se é tecnicamente capaz de realizá-las.\n",
        "\n",
        "### participated_in_other_projects\n",
        "*Dado booleano que diz se o aluno já participou de projetos além dos das disciplinas do curso.*\n",
        "\n",
        "### subject_best_exp\n",
        "*Disciplina em que o aluno teve a melhor experiência em relação ao projeto desenvolvido.*\n",
        "\n",
        "### subject_best_exp_factor\n",
        "*Principal fator que contribuiu para que a experiência tenha sido boa no projeto da disciplina*\n",
        "\n",
        "### another_factor\n",
        "*Outro fator que o aluno considera que contribui para sua motivação em um projeto.*"
      ]
    },
    {
      "cell_type": "code",
      "metadata": {
        "colab": {
          "base_uri": "https://localhost:8080/"
        },
        "id": "HeLu1hCQTa15",
        "outputId": "ecc9138b-9848-4ad0-bd9f-cc56053c7fcb"
      },
      "source": [
        "CSV_URL = 'https://gist.githubusercontent.com/fanny/e2e1360675eee1787a3e4791c1beee1a/raw/14cfddc773be7f9691dbcdf8d9f035f383a58683/dataset_v1.csv'\n",
        "\n",
        "df = pd.read_csv(CSV_URL)\n",
        "df.head()"
      ],
      "execution_count": null,
      "outputs": [
        {
          "output_type": "execute_result",
          "data": {
            "text/html": [
              "<div>\n",
              "<style scoped>\n",
              "    .dataframe tbody tr th:only-of-type {\n",
              "        vertical-align: middle;\n",
              "    }\n",
              "\n",
              "    .dataframe tbody tr th {\n",
              "        vertical-align: top;\n",
              "    }\n",
              "\n",
              "    .dataframe thead th {\n",
              "        text-align: right;\n",
              "    }\n",
              "</style>\n",
              "<table border=\"1\" class=\"dataframe\">\n",
              "  <thead>\n",
              "    <tr style=\"text-align: right;\">\n",
              "      <th></th>\n",
              "      <th>course_period</th>\n",
              "      <th>well_defined_work_influence</th>\n",
              "      <th>workload_influence</th>\n",
              "      <th>useful_knowledge_influence</th>\n",
              "      <th>social_impact_influence</th>\n",
              "      <th>work_variety_influence</th>\n",
              "      <th>creative_work_influence</th>\n",
              "      <th>challenging_work_influence</th>\n",
              "      <th>participated_in_other_projects</th>\n",
              "      <th>subject_best_exp</th>\n",
              "      <th>subject_best_exp_factor</th>\n",
              "      <th>another_factor</th>\n",
              "    </tr>\n",
              "  </thead>\n",
              "  <tbody>\n",
              "    <tr>\n",
              "      <th>0</th>\n",
              "      <td>6</td>\n",
              "      <td>5</td>\n",
              "      <td>5</td>\n",
              "      <td>3</td>\n",
              "      <td>5</td>\n",
              "      <td>3</td>\n",
              "      <td>5</td>\n",
              "      <td>5</td>\n",
              "      <td>Y</td>\n",
              "      <td>P2</td>\n",
              "      <td>well_defined_work</td>\n",
              "      <td>NaN</td>\n",
              "    </tr>\n",
              "    <tr>\n",
              "      <th>1</th>\n",
              "      <td>6</td>\n",
              "      <td>5</td>\n",
              "      <td>5</td>\n",
              "      <td>5</td>\n",
              "      <td>4</td>\n",
              "      <td>4</td>\n",
              "      <td>5</td>\n",
              "      <td>3</td>\n",
              "      <td>Y</td>\n",
              "      <td>PLP</td>\n",
              "      <td>well_defined_work</td>\n",
              "      <td>NaN</td>\n",
              "    </tr>\n",
              "    <tr>\n",
              "      <th>2</th>\n",
              "      <td>7</td>\n",
              "      <td>5</td>\n",
              "      <td>5</td>\n",
              "      <td>5</td>\n",
              "      <td>5</td>\n",
              "      <td>1</td>\n",
              "      <td>4</td>\n",
              "      <td>4</td>\n",
              "      <td>Y</td>\n",
              "      <td>P2</td>\n",
              "      <td>well_defined_work</td>\n",
              "      <td>NaN</td>\n",
              "    </tr>\n",
              "    <tr>\n",
              "      <th>3</th>\n",
              "      <td>6</td>\n",
              "      <td>5</td>\n",
              "      <td>4</td>\n",
              "      <td>4</td>\n",
              "      <td>5</td>\n",
              "      <td>3</td>\n",
              "      <td>4</td>\n",
              "      <td>3</td>\n",
              "      <td>Y</td>\n",
              "      <td>ES</td>\n",
              "      <td>well_defined_work</td>\n",
              "      <td>Trabalhar com ferramentas que você se identifica.</td>\n",
              "    </tr>\n",
              "    <tr>\n",
              "      <th>4</th>\n",
              "      <td>8</td>\n",
              "      <td>5</td>\n",
              "      <td>5</td>\n",
              "      <td>5</td>\n",
              "      <td>4</td>\n",
              "      <td>2</td>\n",
              "      <td>3</td>\n",
              "      <td>4</td>\n",
              "      <td>Y</td>\n",
              "      <td>PSOFT</td>\n",
              "      <td>well_defined_work</td>\n",
              "      <td>NaN</td>\n",
              "    </tr>\n",
              "  </tbody>\n",
              "</table>\n",
              "</div>"
            ],
            "text/plain": [
              "  course_period  ...                                     another_factor\n",
              "0             6  ...                                                NaN\n",
              "1             6  ...                                                NaN\n",
              "2             7  ...                                                NaN\n",
              "3             6  ...  Trabalhar com ferramentas que você se identifica.\n",
              "4             8  ...                                                NaN\n",
              "\n",
              "[5 rows x 12 columns]"
            ]
          },
          "metadata": {
            "tags": []
          },
          "execution_count": 41
        }
      ]
    },
    {
      "cell_type": "markdown",
      "metadata": {
        "id": "kVphpbP0XtiV"
      },
      "source": [
        "### Formatação dos dados"
      ]
    },
    {
      "cell_type": "markdown",
      "metadata": {
        "id": "Og7dDd3eQBIN"
      },
      "source": [
        "Afim de melhorar os valores presentes nas colunas e facilitar o processamento dos mesmos foi feito um pré-processamento dos dados, antes da sua análise.Consideramos do décimo período, todos os alunos que haviam respondido que o seu período era superior ou igual a dez. E também alteramos o valor da variável **participated_in_other_projects** para um booleano."
      ]
    },
    {
      "cell_type": "code",
      "metadata": {
        "colab": {
          "base_uri": "https://localhost:8080/",
          "height": 258
        },
        "id": "_cwxWYy3XzA4",
        "outputId": "c97fc796-5937-48ca-f3c7-f715a91e0400"
      },
      "source": [
        "course_period_values = {'10 (ou mais)': '10'}\n",
        "participated_in_other_projects_values = {'Y': True, 'N': False}\n",
        "formatted_values = {'course_period': course_period_values, 'participated_in_other_projects': participated_in_other_projects_values}\n",
        "\n",
        "df_formatted = df.replace(formatted_values)\n",
        "df_formatted['course_period'] = df_formatted['course_period'].astype('int')\n",
        "df_formatted['another_factor'] = df_formatted['another_factor'].fillna('')\n",
        "\n",
        "df_formatted.head()"
      ],
      "execution_count": null,
      "outputs": [
        {
          "output_type": "execute_result",
          "data": {
            "text/html": [
              "<div>\n",
              "<style scoped>\n",
              "    .dataframe tbody tr th:only-of-type {\n",
              "        vertical-align: middle;\n",
              "    }\n",
              "\n",
              "    .dataframe tbody tr th {\n",
              "        vertical-align: top;\n",
              "    }\n",
              "\n",
              "    .dataframe thead th {\n",
              "        text-align: right;\n",
              "    }\n",
              "</style>\n",
              "<table border=\"1\" class=\"dataframe\">\n",
              "  <thead>\n",
              "    <tr style=\"text-align: right;\">\n",
              "      <th></th>\n",
              "      <th>course_period</th>\n",
              "      <th>well_defined_work_influence</th>\n",
              "      <th>workload_influence</th>\n",
              "      <th>useful_knowledge_influence</th>\n",
              "      <th>social_impact_influence</th>\n",
              "      <th>work_variety_influence</th>\n",
              "      <th>creative_work_influence</th>\n",
              "      <th>challenging_work_influence</th>\n",
              "      <th>participated_in_other_projects</th>\n",
              "      <th>subject_best_exp</th>\n",
              "      <th>subject_best_exp_factor</th>\n",
              "      <th>another_factor</th>\n",
              "    </tr>\n",
              "  </thead>\n",
              "  <tbody>\n",
              "    <tr>\n",
              "      <th>0</th>\n",
              "      <td>6</td>\n",
              "      <td>5</td>\n",
              "      <td>5</td>\n",
              "      <td>3</td>\n",
              "      <td>5</td>\n",
              "      <td>3</td>\n",
              "      <td>5</td>\n",
              "      <td>5</td>\n",
              "      <td>True</td>\n",
              "      <td>P2</td>\n",
              "      <td>well_defined_work</td>\n",
              "      <td></td>\n",
              "    </tr>\n",
              "    <tr>\n",
              "      <th>1</th>\n",
              "      <td>6</td>\n",
              "      <td>5</td>\n",
              "      <td>5</td>\n",
              "      <td>5</td>\n",
              "      <td>4</td>\n",
              "      <td>4</td>\n",
              "      <td>5</td>\n",
              "      <td>3</td>\n",
              "      <td>True</td>\n",
              "      <td>PLP</td>\n",
              "      <td>well_defined_work</td>\n",
              "      <td></td>\n",
              "    </tr>\n",
              "    <tr>\n",
              "      <th>2</th>\n",
              "      <td>7</td>\n",
              "      <td>5</td>\n",
              "      <td>5</td>\n",
              "      <td>5</td>\n",
              "      <td>5</td>\n",
              "      <td>1</td>\n",
              "      <td>4</td>\n",
              "      <td>4</td>\n",
              "      <td>True</td>\n",
              "      <td>P2</td>\n",
              "      <td>well_defined_work</td>\n",
              "      <td></td>\n",
              "    </tr>\n",
              "    <tr>\n",
              "      <th>3</th>\n",
              "      <td>6</td>\n",
              "      <td>5</td>\n",
              "      <td>4</td>\n",
              "      <td>4</td>\n",
              "      <td>5</td>\n",
              "      <td>3</td>\n",
              "      <td>4</td>\n",
              "      <td>3</td>\n",
              "      <td>True</td>\n",
              "      <td>ES</td>\n",
              "      <td>well_defined_work</td>\n",
              "      <td>Trabalhar com ferramentas que você se identifica.</td>\n",
              "    </tr>\n",
              "    <tr>\n",
              "      <th>4</th>\n",
              "      <td>8</td>\n",
              "      <td>5</td>\n",
              "      <td>5</td>\n",
              "      <td>5</td>\n",
              "      <td>4</td>\n",
              "      <td>2</td>\n",
              "      <td>3</td>\n",
              "      <td>4</td>\n",
              "      <td>True</td>\n",
              "      <td>PSOFT</td>\n",
              "      <td>well_defined_work</td>\n",
              "      <td></td>\n",
              "    </tr>\n",
              "  </tbody>\n",
              "</table>\n",
              "</div>"
            ],
            "text/plain": [
              "   course_period  ...                                     another_factor\n",
              "0              6  ...                                                   \n",
              "1              6  ...                                                   \n",
              "2              7  ...                                                   \n",
              "3              6  ...  Trabalhar com ferramentas que você se identifica.\n",
              "4              8  ...                                                   \n",
              "\n",
              "[5 rows x 12 columns]"
            ]
          },
          "metadata": {
            "tags": []
          },
          "execution_count": 42
        }
      ]
    },
    {
      "cell_type": "markdown",
      "metadata": {
        "id": "wHAu858SWzGW"
      },
      "source": [
        "### Análise da distribuição geral dos dados"
      ]
    },
    {
      "cell_type": "markdown",
      "metadata": {
        "id": "Q0fYc__UQKIY"
      },
      "source": [
        "A partir dos dados coletados, observou-se que a maior parte dos estudantes que responderam a survey se encontram nos períodos iniciais do curso, como mostra o histograma abaixo que relaciona o período do curso com a quantidade de respostas. Obtivemos 34 respostas para estudantes entre o 2 período e o 5 periodo, enquanto que 29 foram coletadas de estudantes entre o 6 e 10 período."
      ]
    },
    {
      "cell_type": "code",
      "metadata": {
        "colab": {
          "base_uri": "https://localhost:8080/"
        },
        "id": "vdTAHgQfan1X",
        "outputId": "a8284a05-7325-484e-ddf9-ba9d830b4af9"
      },
      "source": [
        "axes = df_formatted.hist(column='course_period', legend=True)\n",
        "\n",
        "for ax in axes.flatten():\n",
        "    ax.set_xlabel(\"Período\")\n",
        "    ax.set_ylabel(\"Frequência\")"
      ],
      "execution_count": null,
      "outputs": [
        {
          "output_type": "display_data",
          "data": {
            "image/png": "[encoded data removed]",
            "text/plain": [
              "<Figure size 432x288 with 1 Axes>"
            ]
          },
          "metadata": {
            "tags": [],
            "needs_background": "light"
          }
        }
      ]
    },
    {
      "cell_type": "markdown",
      "metadata": {
        "id": "SNzbL6ZbQQjg"
      },
      "source": [
        "Avaliando as disciplinas do curso que possuem projetos de desenvolvimento, destaca-se a escolha de Programação 2, o que está em conformidade com o perfil da maioria dos estudantes que ainda estão nas fases iniciais do curso. A disciplina com menor percentual foi a **PCOMPI** que se refere a projeto I de computação, isso pode ter ocorrido porque só houveram 2 respostas de alunos dos períodos finais, períodos esses em que a disciplina é cursada. As outras seguem uma proporção similar."
      ]
    },
    {
      "cell_type": "code",
      "metadata": {
        "colab": {
          "base_uri": "https://localhost:8080/"
        },
        "id": "oNOa9ENxaJko",
        "outputId": "0b8320b3-a5f7-4dc8-ce68-e7ba29b815e2"
      },
      "source": [
        "df_formatted[\"subject_best_exp\"].value_counts().plot(kind='pie', autopct='%1.1f%%')"
      ],
      "execution_count": null,
      "outputs": [
        {
          "output_type": "execute_result",
          "data": {
            "text/plain": [
              "<matplotlib.axes._subplots.AxesSubplot at 0x7f942769fa50>"
            ]
          },
          "metadata": {
            "tags": []
          },
          "execution_count": 44
        },
        {
          "output_type": "display_data",
          "data": {
            "image/png": "[encoded data removed]",
            "text/plain": [
              "<Figure size 432x288 with 1 Axes>"
            ]
          },
          "metadata": {
            "tags": []
          }
        }
      ]
    },
    {
      "cell_type": "markdown",
      "metadata": {
        "id": "Onzx6MQJQZZJ"
      },
      "source": [
        "Outro fator interessante a ser avaliado, é a participação ou não em outros projetos de desenvolvimento além daqueles construídos nas disciplinas, isso porque podem existir viéses dessas experiências e precisamos levar isso em consideração. Abaixo podemos notar que 70% dos alunos já participaram de outros projetos enquanto que 30% não."
      ]
    },
    {
      "cell_type": "code",
      "metadata": {
        "colab": {
          "base_uri": "https://localhost:8080/"
        },
        "id": "nzY8NSxcCe6F",
        "outputId": "77d1188b-dc03-4d62-e72a-32d00de11dac"
      },
      "source": [
        "df_formatted[\"participated_in_other_projects\"].value_counts().plot(kind='pie', autopct='%1.1f%%')"
      ],
      "execution_count": null,
      "outputs": [
        {
          "output_type": "execute_result",
          "data": {
            "text/plain": [
              "<matplotlib.axes._subplots.AxesSubplot at 0x7f94275e1a50>"
            ]
          },
          "metadata": {
            "tags": []
          },
          "execution_count": 45
        },
        {
          "output_type": "display_data",
          "data": {
            "image/png": "[encoded data removed]",
            "text/plain": [
              "<Figure size 432x288 with 1 Axes>"
            ]
          },
          "metadata": {
            "tags": []
          }
        }
      ]
    },
    {
      "cell_type": "markdown",
      "metadata": {
        "id": "t6HpCsndQdYj"
      },
      "source": [
        "No caso do fator decisivo para uma boa experiência na opinião dos avaliados, vemos que existe a predominância de trabalho bem definido e em contrapartida o de menor foi variedade de trabalho. Tentando entender os fatores que podem ter levado a esse resultado, acreditamos que esse resultado possa ter relação com o fato de que um trabalho bem definido gera maior produtividade, já que se sabe o que é esperado, ao passo que em um ambiente que possui muita diversidade de trabalho pode ser contra-produtivo em certos cenários, já que é necessário trocar de contexto mais vezes."
      ]
    },
    {
      "cell_type": "code",
      "metadata": {
        "colab": {
          "base_uri": "https://localhost:8080/"
        },
        "id": "Gs3beSMHQg8b",
        "outputId": "104f5822-b7a1-4d32-c963-e7f1b9063617"
      },
      "source": [
        "df_formatted[\"subject_best_exp_factor\"].value_counts().plot(kind='pie', autopct='%1.1f%%')"
      ],
      "execution_count": null,
      "outputs": [
        {
          "output_type": "execute_result",
          "data": {
            "text/plain": [
              "<matplotlib.axes._subplots.AxesSubplot at 0x7f9427c7c610>"
            ]
          },
          "metadata": {
            "tags": []
          },
          "execution_count": 46
        },
        {
          "output_type": "display_data",
          "data": {
            "image/png": "[encoded data removed]",
            "text/plain": [
              "<Figure size 432x288 with 1 Axes>"
            ]
          },
          "metadata": {
            "tags": []
          }
        }
      ]
    },
    {
      "cell_type": "markdown",
      "metadata": {
        "id": "DsHXQG--Qm-4"
      },
      "source": [
        "### Fatores avaliados e suas frequências\n"
      ]
    },
    {
      "cell_type": "markdown",
      "metadata": {
        "id": "6a-a-5j_QvPl"
      },
      "source": [
        "Os gráficos abaixo sumarizam o comportamento das respostas obtidas para cada fator motivacional. Nota-se que boa parte das respostas não possuem variedade, \n",
        "sendo respostas neutras ou totalmente de acordo com o fator avaliado."
      ]
    },
    {
      "cell_type": "code",
      "metadata": {
        "colab": {
          "base_uri": "https://localhost:8080/"
        },
        "id": "42FPbCeoz9AU",
        "outputId": "025f8146-3034-4b1d-aa2e-4a6f99230988"
      },
      "source": [
        "ax = df_formatted[\"well_defined_work_influence\"].value_counts().plot(kind='bar', legend=True)\n",
        "ax.set_xlabel(\"Well defined work influence\")\n",
        "ax.set_ylabel(\"Frequency\")"
      ],
      "execution_count": null,
      "outputs": [
        {
          "output_type": "execute_result",
          "data": {
            "text/plain": [
              "Text(0, 0.5, 'Frequency')"
            ]
          },
          "metadata": {
            "tags": []
          },
          "execution_count": 47
        },
        {
          "output_type": "display_data",
          "data": {
            "image/png": "[encoded data removed]",
            "text/plain": [
              "<Figure size 432x288 with 1 Axes>"
            ]
          },
          "metadata": {
            "tags": [],
            "needs_background": "light"
          }
        }
      ]
    },
    {
      "cell_type": "code",
      "metadata": {
        "colab": {
          "base_uri": "https://localhost:8080/"
        },
        "id": "l_Dip9by2pY9",
        "outputId": "152b6c68-6ad1-4f82-b9ef-e280e97d1110"
      },
      "source": [
        "ax = df_formatted[\"workload_influence\"].value_counts().plot(kind='bar', legend=True)\n",
        "ax.set_xlabel(\"Workload influence\")\n",
        "ax.set_ylabel(\"Frequency\")"
      ],
      "execution_count": null,
      "outputs": [
        {
          "output_type": "execute_result",
          "data": {
            "text/plain": [
              "Text(0, 0.5, 'Frequency')"
            ]
          },
          "metadata": {
            "tags": []
          },
          "execution_count": 48
        },
        {
          "output_type": "display_data",
          "data": {
            "image/png": "[encoded data removed]",
            "text/plain": [
              "<Figure size 432x288 with 1 Axes>"
            ]
          },
          "metadata": {
            "tags": [],
            "needs_background": "light"
          }
        }
      ]
    },
    {
      "cell_type": "code",
      "metadata": {
        "colab": {
          "base_uri": "https://localhost:8080/"
        },
        "id": "aymHAeaW2sFv",
        "outputId": "fc69a51e-6f23-48f8-d104-f1b5fbd8ef29"
      },
      "source": [
        "ax = df_formatted[\"useful_knowledge_influence\"].value_counts().plot(kind='bar', legend=True)\n",
        "ax.set_xlabel(\"Useful knowledge influence\")\n",
        "ax.set_ylabel(\"Frequency\")"
      ],
      "execution_count": null,
      "outputs": [
        {
          "output_type": "execute_result",
          "data": {
            "text/plain": [
              "Text(0, 0.5, 'Frequency')"
            ]
          },
          "metadata": {
            "tags": []
          },
          "execution_count": 49
        },
        {
          "output_type": "display_data",
          "data": {
            "image/png": "[encoded data removed]",
            "text/plain": [
              "<Figure size 432x288 with 1 Axes>"
            ]
          },
          "metadata": {
            "tags": [],
            "needs_background": "light"
          }
        }
      ]
    },
    {
      "cell_type": "code",
      "metadata": {
        "colab": {
          "base_uri": "https://localhost:8080/"
        },
        "id": "Zfe2tewg2yIv",
        "outputId": "d1f7de2f-4767-45c3-e6e2-ec1cf0038ff3"
      },
      "source": [
        "ax = df_formatted[\"social_impact_influence\"].value_counts().plot(kind='bar', legend=True)\n",
        "ax.set_xlabel(\"Social impact influence\")\n",
        "ax.set_ylabel(\"Frequency\")"
      ],
      "execution_count": null,
      "outputs": [
        {
          "output_type": "execute_result",
          "data": {
            "text/plain": [
              "Text(0, 0.5, 'Frequency')"
            ]
          },
          "metadata": {
            "tags": []
          },
          "execution_count": 50
        },
        {
          "output_type": "display_data",
          "data": {
            "image/png": "[encoded data removed]",
            "text/plain": [
              "<Figure size 432x288 with 1 Axes>"
            ]
          },
          "metadata": {
            "tags": [],
            "needs_background": "light"
          }
        }
      ]
    },
    {
      "cell_type": "code",
      "metadata": {
        "colab": {
          "base_uri": "https://localhost:8080/"
        },
        "id": "TH8dJCtr3AmT",
        "outputId": "bbd81f5f-4f61-4435-c23a-467db3a0032d"
      },
      "source": [
        "ax = df_formatted[\"work_variety_influence\"].value_counts().plot(kind='bar', legend=True)\n",
        "ax.set_xlabel(\"Work variety influence\")\n",
        "ax.set_ylabel(\"Frequency\")"
      ],
      "execution_count": null,
      "outputs": [
        {
          "output_type": "execute_result",
          "data": {
            "text/plain": [
              "Text(0, 0.5, 'Frequency')"
            ]
          },
          "metadata": {
            "tags": []
          },
          "execution_count": 51
        },
        {
          "output_type": "display_data",
          "data": {
            "image/png": "[encoded data removed]",
            "text/plain": [
              "<Figure size 432x288 with 1 Axes>"
            ]
          },
          "metadata": {
            "tags": [],
            "needs_background": "light"
          }
        }
      ]
    },
    {
      "cell_type": "code",
      "metadata": {
        "colab": {
          "base_uri": "https://localhost:8080/"
        },
        "id": "gnup_DC53HIh",
        "outputId": "814ed101-d089-4923-a731-d02380ff79df"
      },
      "source": [
        "ax = df_formatted[\"creative_work_influence\"].value_counts().plot(kind='bar', legend=True)\n",
        "ax.set_xlabel(\"Creative work influence\")\n",
        "ax.set_ylabel(\"Frequency\")"
      ],
      "execution_count": null,
      "outputs": [
        {
          "output_type": "execute_result",
          "data": {
            "text/plain": [
              "Text(0, 0.5, 'Frequency')"
            ]
          },
          "metadata": {
            "tags": []
          },
          "execution_count": 52
        },
        {
          "output_type": "display_data",
          "data": {
            "image/png": "[encoded data removed]",
            "text/plain": [
              "<Figure size 432x288 with 1 Axes>"
            ]
          },
          "metadata": {
            "tags": [],
            "needs_background": "light"
          }
        }
      ]
    },
    {
      "cell_type": "code",
      "metadata": {
        "colab": {
          "base_uri": "https://localhost:8080/"
        },
        "id": "t3hAtwaR3M49",
        "outputId": "5c47d2f2-ea47-43f4-eec5-49acdc87f58e"
      },
      "source": [
        "ax = df_formatted[\"challenging_work_influence\"].value_counts().plot(kind='bar')\n",
        "ax.set_xlabel(\"Creative work influence\")\n",
        "ax.set_ylabel(\"Frequency\")"
      ],
      "execution_count": null,
      "outputs": [
        {
          "output_type": "execute_result",
          "data": {
            "text/plain": [
              "Text(0, 0.5, 'Frequency')"
            ]
          },
          "metadata": {
            "tags": []
          },
          "execution_count": 53
        },
        {
          "output_type": "display_data",
          "data": {
            "image/png": "[encoded data removed]",
            "text/plain": [
              "<Figure size 432x288 with 1 Axes>"
            ]
          },
          "metadata": {
            "tags": [],
            "needs_background": "light"
          }
        }
      ]
    },
    {
      "cell_type": "markdown",
      "metadata": {
        "id": "aEGJX5bMRJWb"
      },
      "source": [
        "### Análise da relação do período do curso com os fatores motivacionais\n"
      ]
    },
    {
      "cell_type": "markdown",
      "metadata": {
        "id": "fLLMBWGnSyMD"
      },
      "source": [
        "Como os dados coletados não apresentaram tanta variação, ao invés de utilizar um blox plot para interpretação da distribuição dos valores, bem como da inclusão de outliers, resolveu-se fazer uso de um método que descrevesse essas informações de forma quantitativa, tendo em vista que ao gerar box-plots, não era possível inferir tantas informações. \n",
        "\n",
        "Assim, abaixo é possível analisar a quantidade de respostas por período através do atributo **count**. A média das respostas **mean**, o desvio padrão **std**, o valor mínimo das respostas **min**, o primeiro quartil **25%**, o segundo quartil **50%**, o terceiro quartil **75%** e o valor máximo **max**. "
      ]
    },
    {
      "cell_type": "code",
      "metadata": {
        "colab": {
          "base_uri": "https://localhost:8080/"
        },
        "id": "V_g2VFbWWykf",
        "outputId": "e6e323c4-208d-41a0-8227-37847fff1dac"
      },
      "source": [
        "df_formatted.groupby(['course_period'])['well_defined_work_influence'].describe() "
      ],
      "execution_count": null,
      "outputs": [
        {
          "output_type": "execute_result",
          "data": {
            "text/html": [
              "<div>\n",
              "<style scoped>\n",
              "    .dataframe tbody tr th:only-of-type {\n",
              "        vertical-align: middle;\n",
              "    }\n",
              "\n",
              "    .dataframe tbody tr th {\n",
              "        vertical-align: top;\n",
              "    }\n",
              "\n",
              "    .dataframe thead th {\n",
              "        text-align: right;\n",
              "    }\n",
              "</style>\n",
              "<table border=\"1\" class=\"dataframe\">\n",
              "  <thead>\n",
              "    <tr style=\"text-align: right;\">\n",
              "      <th></th>\n",
              "      <th>count</th>\n",
              "      <th>mean</th>\n",
              "      <th>std</th>\n",
              "      <th>min</th>\n",
              "      <th>25%</th>\n",
              "      <th>50%</th>\n",
              "      <th>75%</th>\n",
              "      <th>max</th>\n",
              "    </tr>\n",
              "    <tr>\n",
              "      <th>course_period</th>\n",
              "      <th></th>\n",
              "      <th></th>\n",
              "      <th></th>\n",
              "      <th></th>\n",
              "      <th></th>\n",
              "      <th></th>\n",
              "      <th></th>\n",
              "      <th></th>\n",
              "    </tr>\n",
              "  </thead>\n",
              "  <tbody>\n",
              "    <tr>\n",
              "      <th>2</th>\n",
              "      <td>2.0</td>\n",
              "      <td>3.500000</td>\n",
              "      <td>0.707107</td>\n",
              "      <td>3.0</td>\n",
              "      <td>3.25</td>\n",
              "      <td>3.5</td>\n",
              "      <td>3.75</td>\n",
              "      <td>4.0</td>\n",
              "    </tr>\n",
              "    <tr>\n",
              "      <th>3</th>\n",
              "      <td>15.0</td>\n",
              "      <td>5.000000</td>\n",
              "      <td>0.000000</td>\n",
              "      <td>5.0</td>\n",
              "      <td>5.00</td>\n",
              "      <td>5.0</td>\n",
              "      <td>5.00</td>\n",
              "      <td>5.0</td>\n",
              "    </tr>\n",
              "    <tr>\n",
              "      <th>4</th>\n",
              "      <td>14.0</td>\n",
              "      <td>4.500000</td>\n",
              "      <td>0.650444</td>\n",
              "      <td>3.0</td>\n",
              "      <td>4.00</td>\n",
              "      <td>5.0</td>\n",
              "      <td>5.00</td>\n",
              "      <td>5.0</td>\n",
              "    </tr>\n",
              "    <tr>\n",
              "      <th>5</th>\n",
              "      <td>3.0</td>\n",
              "      <td>5.000000</td>\n",
              "      <td>0.000000</td>\n",
              "      <td>5.0</td>\n",
              "      <td>5.00</td>\n",
              "      <td>5.0</td>\n",
              "      <td>5.00</td>\n",
              "      <td>5.0</td>\n",
              "    </tr>\n",
              "    <tr>\n",
              "      <th>6</th>\n",
              "      <td>12.0</td>\n",
              "      <td>5.000000</td>\n",
              "      <td>0.000000</td>\n",
              "      <td>5.0</td>\n",
              "      <td>5.00</td>\n",
              "      <td>5.0</td>\n",
              "      <td>5.00</td>\n",
              "      <td>5.0</td>\n",
              "    </tr>\n",
              "    <tr>\n",
              "      <th>7</th>\n",
              "      <td>6.0</td>\n",
              "      <td>4.833333</td>\n",
              "      <td>0.408248</td>\n",
              "      <td>4.0</td>\n",
              "      <td>5.00</td>\n",
              "      <td>5.0</td>\n",
              "      <td>5.00</td>\n",
              "      <td>5.0</td>\n",
              "    </tr>\n",
              "    <tr>\n",
              "      <th>8</th>\n",
              "      <td>8.0</td>\n",
              "      <td>4.375000</td>\n",
              "      <td>0.744024</td>\n",
              "      <td>3.0</td>\n",
              "      <td>4.00</td>\n",
              "      <td>4.5</td>\n",
              "      <td>5.00</td>\n",
              "      <td>5.0</td>\n",
              "    </tr>\n",
              "    <tr>\n",
              "      <th>9</th>\n",
              "      <td>1.0</td>\n",
              "      <td>5.000000</td>\n",
              "      <td>NaN</td>\n",
              "      <td>5.0</td>\n",
              "      <td>5.00</td>\n",
              "      <td>5.0</td>\n",
              "      <td>5.00</td>\n",
              "      <td>5.0</td>\n",
              "    </tr>\n",
              "    <tr>\n",
              "      <th>10</th>\n",
              "      <td>2.0</td>\n",
              "      <td>3.500000</td>\n",
              "      <td>0.707107</td>\n",
              "      <td>3.0</td>\n",
              "      <td>3.25</td>\n",
              "      <td>3.5</td>\n",
              "      <td>3.75</td>\n",
              "      <td>4.0</td>\n",
              "    </tr>\n",
              "  </tbody>\n",
              "</table>\n",
              "</div>"
            ],
            "text/plain": [
              "               count      mean       std  min   25%  50%   75%  max\n",
              "course_period                                                      \n",
              "2                2.0  3.500000  0.707107  3.0  3.25  3.5  3.75  4.0\n",
              "3               15.0  5.000000  0.000000  5.0  5.00  5.0  5.00  5.0\n",
              "4               14.0  4.500000  0.650444  3.0  4.00  5.0  5.00  5.0\n",
              "5                3.0  5.000000  0.000000  5.0  5.00  5.0  5.00  5.0\n",
              "6               12.0  5.000000  0.000000  5.0  5.00  5.0  5.00  5.0\n",
              "7                6.0  4.833333  0.408248  4.0  5.00  5.0  5.00  5.0\n",
              "8                8.0  4.375000  0.744024  3.0  4.00  4.5  5.00  5.0\n",
              "9                1.0  5.000000       NaN  5.0  5.00  5.0  5.00  5.0\n",
              "10               2.0  3.500000  0.707107  3.0  3.25  3.5  3.75  4.0"
            ]
          },
          "metadata": {
            "tags": []
          },
          "execution_count": 54
        }
      ]
    },
    {
      "cell_type": "code",
      "metadata": {
        "colab": {
          "base_uri": "https://localhost:8080/"
        },
        "id": "tYWf2VK2ezdJ",
        "outputId": "e4abb3a1-70a4-4b47-91f2-b2ea012d0241"
      },
      "source": [
        "df_formatted.groupby(['course_period'])['workload_influence'].describe()"
      ],
      "execution_count": null,
      "outputs": [
        {
          "output_type": "execute_result",
          "data": {
            "text/html": [
              "<div>\n",
              "<style scoped>\n",
              "    .dataframe tbody tr th:only-of-type {\n",
              "        vertical-align: middle;\n",
              "    }\n",
              "\n",
              "    .dataframe tbody tr th {\n",
              "        vertical-align: top;\n",
              "    }\n",
              "\n",
              "    .dataframe thead th {\n",
              "        text-align: right;\n",
              "    }\n",
              "</style>\n",
              "<table border=\"1\" class=\"dataframe\">\n",
              "  <thead>\n",
              "    <tr style=\"text-align: right;\">\n",
              "      <th></th>\n",
              "      <th>count</th>\n",
              "      <th>mean</th>\n",
              "      <th>std</th>\n",
              "      <th>min</th>\n",
              "      <th>25%</th>\n",
              "      <th>50%</th>\n",
              "      <th>75%</th>\n",
              "      <th>max</th>\n",
              "    </tr>\n",
              "    <tr>\n",
              "      <th>course_period</th>\n",
              "      <th></th>\n",
              "      <th></th>\n",
              "      <th></th>\n",
              "      <th></th>\n",
              "      <th></th>\n",
              "      <th></th>\n",
              "      <th></th>\n",
              "      <th></th>\n",
              "    </tr>\n",
              "  </thead>\n",
              "  <tbody>\n",
              "    <tr>\n",
              "      <th>2</th>\n",
              "      <td>2.0</td>\n",
              "      <td>4.000000</td>\n",
              "      <td>1.414214</td>\n",
              "      <td>3.0</td>\n",
              "      <td>3.5</td>\n",
              "      <td>4.0</td>\n",
              "      <td>4.5</td>\n",
              "      <td>5.0</td>\n",
              "    </tr>\n",
              "    <tr>\n",
              "      <th>3</th>\n",
              "      <td>15.0</td>\n",
              "      <td>4.733333</td>\n",
              "      <td>0.593617</td>\n",
              "      <td>3.0</td>\n",
              "      <td>5.0</td>\n",
              "      <td>5.0</td>\n",
              "      <td>5.0</td>\n",
              "      <td>5.0</td>\n",
              "    </tr>\n",
              "    <tr>\n",
              "      <th>4</th>\n",
              "      <td>14.0</td>\n",
              "      <td>4.428571</td>\n",
              "      <td>0.646206</td>\n",
              "      <td>3.0</td>\n",
              "      <td>4.0</td>\n",
              "      <td>4.5</td>\n",
              "      <td>5.0</td>\n",
              "      <td>5.0</td>\n",
              "    </tr>\n",
              "    <tr>\n",
              "      <th>5</th>\n",
              "      <td>3.0</td>\n",
              "      <td>4.666667</td>\n",
              "      <td>0.577350</td>\n",
              "      <td>4.0</td>\n",
              "      <td>4.5</td>\n",
              "      <td>5.0</td>\n",
              "      <td>5.0</td>\n",
              "      <td>5.0</td>\n",
              "    </tr>\n",
              "    <tr>\n",
              "      <th>6</th>\n",
              "      <td>12.0</td>\n",
              "      <td>4.916667</td>\n",
              "      <td>0.288675</td>\n",
              "      <td>4.0</td>\n",
              "      <td>5.0</td>\n",
              "      <td>5.0</td>\n",
              "      <td>5.0</td>\n",
              "      <td>5.0</td>\n",
              "    </tr>\n",
              "    <tr>\n",
              "      <th>7</th>\n",
              "      <td>6.0</td>\n",
              "      <td>4.833333</td>\n",
              "      <td>0.408248</td>\n",
              "      <td>4.0</td>\n",
              "      <td>5.0</td>\n",
              "      <td>5.0</td>\n",
              "      <td>5.0</td>\n",
              "      <td>5.0</td>\n",
              "    </tr>\n",
              "    <tr>\n",
              "      <th>8</th>\n",
              "      <td>8.0</td>\n",
              "      <td>4.500000</td>\n",
              "      <td>0.925820</td>\n",
              "      <td>3.0</td>\n",
              "      <td>4.5</td>\n",
              "      <td>5.0</td>\n",
              "      <td>5.0</td>\n",
              "      <td>5.0</td>\n",
              "    </tr>\n",
              "    <tr>\n",
              "      <th>9</th>\n",
              "      <td>1.0</td>\n",
              "      <td>5.000000</td>\n",
              "      <td>NaN</td>\n",
              "      <td>5.0</td>\n",
              "      <td>5.0</td>\n",
              "      <td>5.0</td>\n",
              "      <td>5.0</td>\n",
              "      <td>5.0</td>\n",
              "    </tr>\n",
              "    <tr>\n",
              "      <th>10</th>\n",
              "      <td>2.0</td>\n",
              "      <td>4.000000</td>\n",
              "      <td>1.414214</td>\n",
              "      <td>3.0</td>\n",
              "      <td>3.5</td>\n",
              "      <td>4.0</td>\n",
              "      <td>4.5</td>\n",
              "      <td>5.0</td>\n",
              "    </tr>\n",
              "  </tbody>\n",
              "</table>\n",
              "</div>"
            ],
            "text/plain": [
              "               count      mean       std  min  25%  50%  75%  max\n",
              "course_period                                                    \n",
              "2                2.0  4.000000  1.414214  3.0  3.5  4.0  4.5  5.0\n",
              "3               15.0  4.733333  0.593617  3.0  5.0  5.0  5.0  5.0\n",
              "4               14.0  4.428571  0.646206  3.0  4.0  4.5  5.0  5.0\n",
              "5                3.0  4.666667  0.577350  4.0  4.5  5.0  5.0  5.0\n",
              "6               12.0  4.916667  0.288675  4.0  5.0  5.0  5.0  5.0\n",
              "7                6.0  4.833333  0.408248  4.0  5.0  5.0  5.0  5.0\n",
              "8                8.0  4.500000  0.925820  3.0  4.5  5.0  5.0  5.0\n",
              "9                1.0  5.000000       NaN  5.0  5.0  5.0  5.0  5.0\n",
              "10               2.0  4.000000  1.414214  3.0  3.5  4.0  4.5  5.0"
            ]
          },
          "metadata": {
            "tags": []
          },
          "execution_count": 55
        }
      ]
    },
    {
      "cell_type": "code",
      "metadata": {
        "colab": {
          "base_uri": "https://localhost:8080/"
        },
        "id": "g1Wd9IfBezto",
        "outputId": "3e6db5ed-c1de-4e40-cd2d-8a02e8be95f2"
      },
      "source": [
        "df_formatted.groupby(['course_period'])['useful_knowledge_influence'].describe()"
      ],
      "execution_count": null,
      "outputs": [
        {
          "output_type": "execute_result",
          "data": {
            "text/html": [
              "<div>\n",
              "<style scoped>\n",
              "    .dataframe tbody tr th:only-of-type {\n",
              "        vertical-align: middle;\n",
              "    }\n",
              "\n",
              "    .dataframe tbody tr th {\n",
              "        vertical-align: top;\n",
              "    }\n",
              "\n",
              "    .dataframe thead th {\n",
              "        text-align: right;\n",
              "    }\n",
              "</style>\n",
              "<table border=\"1\" class=\"dataframe\">\n",
              "  <thead>\n",
              "    <tr style=\"text-align: right;\">\n",
              "      <th></th>\n",
              "      <th>count</th>\n",
              "      <th>mean</th>\n",
              "      <th>std</th>\n",
              "      <th>min</th>\n",
              "      <th>25%</th>\n",
              "      <th>50%</th>\n",
              "      <th>75%</th>\n",
              "      <th>max</th>\n",
              "    </tr>\n",
              "    <tr>\n",
              "      <th>course_period</th>\n",
              "      <th></th>\n",
              "      <th></th>\n",
              "      <th></th>\n",
              "      <th></th>\n",
              "      <th></th>\n",
              "      <th></th>\n",
              "      <th></th>\n",
              "      <th></th>\n",
              "    </tr>\n",
              "  </thead>\n",
              "  <tbody>\n",
              "    <tr>\n",
              "      <th>2</th>\n",
              "      <td>2.0</td>\n",
              "      <td>5.000000</td>\n",
              "      <td>0.000000</td>\n",
              "      <td>5.0</td>\n",
              "      <td>5.00</td>\n",
              "      <td>5.0</td>\n",
              "      <td>5.0</td>\n",
              "      <td>5.0</td>\n",
              "    </tr>\n",
              "    <tr>\n",
              "      <th>3</th>\n",
              "      <td>15.0</td>\n",
              "      <td>4.866667</td>\n",
              "      <td>0.516398</td>\n",
              "      <td>3.0</td>\n",
              "      <td>5.00</td>\n",
              "      <td>5.0</td>\n",
              "      <td>5.0</td>\n",
              "      <td>5.0</td>\n",
              "    </tr>\n",
              "    <tr>\n",
              "      <th>4</th>\n",
              "      <td>14.0</td>\n",
              "      <td>4.714286</td>\n",
              "      <td>0.468807</td>\n",
              "      <td>4.0</td>\n",
              "      <td>4.25</td>\n",
              "      <td>5.0</td>\n",
              "      <td>5.0</td>\n",
              "      <td>5.0</td>\n",
              "    </tr>\n",
              "    <tr>\n",
              "      <th>5</th>\n",
              "      <td>3.0</td>\n",
              "      <td>5.000000</td>\n",
              "      <td>0.000000</td>\n",
              "      <td>5.0</td>\n",
              "      <td>5.00</td>\n",
              "      <td>5.0</td>\n",
              "      <td>5.0</td>\n",
              "      <td>5.0</td>\n",
              "    </tr>\n",
              "    <tr>\n",
              "      <th>6</th>\n",
              "      <td>12.0</td>\n",
              "      <td>4.750000</td>\n",
              "      <td>0.621582</td>\n",
              "      <td>3.0</td>\n",
              "      <td>5.00</td>\n",
              "      <td>5.0</td>\n",
              "      <td>5.0</td>\n",
              "      <td>5.0</td>\n",
              "    </tr>\n",
              "    <tr>\n",
              "      <th>7</th>\n",
              "      <td>6.0</td>\n",
              "      <td>4.833333</td>\n",
              "      <td>0.408248</td>\n",
              "      <td>4.0</td>\n",
              "      <td>5.00</td>\n",
              "      <td>5.0</td>\n",
              "      <td>5.0</td>\n",
              "      <td>5.0</td>\n",
              "    </tr>\n",
              "    <tr>\n",
              "      <th>8</th>\n",
              "      <td>8.0</td>\n",
              "      <td>4.875000</td>\n",
              "      <td>0.353553</td>\n",
              "      <td>4.0</td>\n",
              "      <td>5.00</td>\n",
              "      <td>5.0</td>\n",
              "      <td>5.0</td>\n",
              "      <td>5.0</td>\n",
              "    </tr>\n",
              "    <tr>\n",
              "      <th>9</th>\n",
              "      <td>1.0</td>\n",
              "      <td>5.000000</td>\n",
              "      <td>NaN</td>\n",
              "      <td>5.0</td>\n",
              "      <td>5.00</td>\n",
              "      <td>5.0</td>\n",
              "      <td>5.0</td>\n",
              "      <td>5.0</td>\n",
              "    </tr>\n",
              "    <tr>\n",
              "      <th>10</th>\n",
              "      <td>2.0</td>\n",
              "      <td>4.000000</td>\n",
              "      <td>0.000000</td>\n",
              "      <td>4.0</td>\n",
              "      <td>4.00</td>\n",
              "      <td>4.0</td>\n",
              "      <td>4.0</td>\n",
              "      <td>4.0</td>\n",
              "    </tr>\n",
              "  </tbody>\n",
              "</table>\n",
              "</div>"
            ],
            "text/plain": [
              "               count      mean       std  min   25%  50%  75%  max\n",
              "course_period                                                     \n",
              "2                2.0  5.000000  0.000000  5.0  5.00  5.0  5.0  5.0\n",
              "3               15.0  4.866667  0.516398  3.0  5.00  5.0  5.0  5.0\n",
              "4               14.0  4.714286  0.468807  4.0  4.25  5.0  5.0  5.0\n",
              "5                3.0  5.000000  0.000000  5.0  5.00  5.0  5.0  5.0\n",
              "6               12.0  4.750000  0.621582  3.0  5.00  5.0  5.0  5.0\n",
              "7                6.0  4.833333  0.408248  4.0  5.00  5.0  5.0  5.0\n",
              "8                8.0  4.875000  0.353553  4.0  5.00  5.0  5.0  5.0\n",
              "9                1.0  5.000000       NaN  5.0  5.00  5.0  5.0  5.0\n",
              "10               2.0  4.000000  0.000000  4.0  4.00  4.0  4.0  4.0"
            ]
          },
          "metadata": {
            "tags": []
          },
          "execution_count": 56
        }
      ]
    },
    {
      "cell_type": "code",
      "metadata": {
        "colab": {
          "base_uri": "https://localhost:8080/"
        },
        "id": "rUCWg1qlez5m",
        "outputId": "b9a55343-bbc6-4220-dac3-ca01e088b1e7"
      },
      "source": [
        "df_formatted.groupby(['course_period'])['social_impact_influence'].describe()"
      ],
      "execution_count": null,
      "outputs": [
        {
          "output_type": "execute_result",
          "data": {
            "text/html": [
              "<div>\n",
              "<style scoped>\n",
              "    .dataframe tbody tr th:only-of-type {\n",
              "        vertical-align: middle;\n",
              "    }\n",
              "\n",
              "    .dataframe tbody tr th {\n",
              "        vertical-align: top;\n",
              "    }\n",
              "\n",
              "    .dataframe thead th {\n",
              "        text-align: right;\n",
              "    }\n",
              "</style>\n",
              "<table border=\"1\" class=\"dataframe\">\n",
              "  <thead>\n",
              "    <tr style=\"text-align: right;\">\n",
              "      <th></th>\n",
              "      <th>count</th>\n",
              "      <th>mean</th>\n",
              "      <th>std</th>\n",
              "      <th>min</th>\n",
              "      <th>25%</th>\n",
              "      <th>50%</th>\n",
              "      <th>75%</th>\n",
              "      <th>max</th>\n",
              "    </tr>\n",
              "    <tr>\n",
              "      <th>course_period</th>\n",
              "      <th></th>\n",
              "      <th></th>\n",
              "      <th></th>\n",
              "      <th></th>\n",
              "      <th></th>\n",
              "      <th></th>\n",
              "      <th></th>\n",
              "      <th></th>\n",
              "    </tr>\n",
              "  </thead>\n",
              "  <tbody>\n",
              "    <tr>\n",
              "      <th>2</th>\n",
              "      <td>2.0</td>\n",
              "      <td>5.000000</td>\n",
              "      <td>0.000000</td>\n",
              "      <td>5.0</td>\n",
              "      <td>5.00</td>\n",
              "      <td>5.0</td>\n",
              "      <td>5.00</td>\n",
              "      <td>5.0</td>\n",
              "    </tr>\n",
              "    <tr>\n",
              "      <th>3</th>\n",
              "      <td>15.0</td>\n",
              "      <td>4.666667</td>\n",
              "      <td>0.723747</td>\n",
              "      <td>3.0</td>\n",
              "      <td>5.00</td>\n",
              "      <td>5.0</td>\n",
              "      <td>5.00</td>\n",
              "      <td>5.0</td>\n",
              "    </tr>\n",
              "    <tr>\n",
              "      <th>4</th>\n",
              "      <td>14.0</td>\n",
              "      <td>4.357143</td>\n",
              "      <td>0.744946</td>\n",
              "      <td>3.0</td>\n",
              "      <td>4.00</td>\n",
              "      <td>4.5</td>\n",
              "      <td>5.00</td>\n",
              "      <td>5.0</td>\n",
              "    </tr>\n",
              "    <tr>\n",
              "      <th>5</th>\n",
              "      <td>3.0</td>\n",
              "      <td>4.666667</td>\n",
              "      <td>0.577350</td>\n",
              "      <td>4.0</td>\n",
              "      <td>4.50</td>\n",
              "      <td>5.0</td>\n",
              "      <td>5.00</td>\n",
              "      <td>5.0</td>\n",
              "    </tr>\n",
              "    <tr>\n",
              "      <th>6</th>\n",
              "      <td>12.0</td>\n",
              "      <td>4.750000</td>\n",
              "      <td>0.452267</td>\n",
              "      <td>4.0</td>\n",
              "      <td>4.75</td>\n",
              "      <td>5.0</td>\n",
              "      <td>5.00</td>\n",
              "      <td>5.0</td>\n",
              "    </tr>\n",
              "    <tr>\n",
              "      <th>7</th>\n",
              "      <td>6.0</td>\n",
              "      <td>4.166667</td>\n",
              "      <td>1.602082</td>\n",
              "      <td>1.0</td>\n",
              "      <td>4.25</td>\n",
              "      <td>5.0</td>\n",
              "      <td>5.00</td>\n",
              "      <td>5.0</td>\n",
              "    </tr>\n",
              "    <tr>\n",
              "      <th>8</th>\n",
              "      <td>8.0</td>\n",
              "      <td>4.375000</td>\n",
              "      <td>0.517549</td>\n",
              "      <td>4.0</td>\n",
              "      <td>4.00</td>\n",
              "      <td>4.0</td>\n",
              "      <td>5.00</td>\n",
              "      <td>5.0</td>\n",
              "    </tr>\n",
              "    <tr>\n",
              "      <th>9</th>\n",
              "      <td>1.0</td>\n",
              "      <td>5.000000</td>\n",
              "      <td>NaN</td>\n",
              "      <td>5.0</td>\n",
              "      <td>5.00</td>\n",
              "      <td>5.0</td>\n",
              "      <td>5.00</td>\n",
              "      <td>5.0</td>\n",
              "    </tr>\n",
              "    <tr>\n",
              "      <th>10</th>\n",
              "      <td>2.0</td>\n",
              "      <td>2.500000</td>\n",
              "      <td>0.707107</td>\n",
              "      <td>2.0</td>\n",
              "      <td>2.25</td>\n",
              "      <td>2.5</td>\n",
              "      <td>2.75</td>\n",
              "      <td>3.0</td>\n",
              "    </tr>\n",
              "  </tbody>\n",
              "</table>\n",
              "</div>"
            ],
            "text/plain": [
              "               count      mean       std  min   25%  50%   75%  max\n",
              "course_period                                                      \n",
              "2                2.0  5.000000  0.000000  5.0  5.00  5.0  5.00  5.0\n",
              "3               15.0  4.666667  0.723747  3.0  5.00  5.0  5.00  5.0\n",
              "4               14.0  4.357143  0.744946  3.0  4.00  4.5  5.00  5.0\n",
              "5                3.0  4.666667  0.577350  4.0  4.50  5.0  5.00  5.0\n",
              "6               12.0  4.750000  0.452267  4.0  4.75  5.0  5.00  5.0\n",
              "7                6.0  4.166667  1.602082  1.0  4.25  5.0  5.00  5.0\n",
              "8                8.0  4.375000  0.517549  4.0  4.00  4.0  5.00  5.0\n",
              "9                1.0  5.000000       NaN  5.0  5.00  5.0  5.00  5.0\n",
              "10               2.0  2.500000  0.707107  2.0  2.25  2.5  2.75  3.0"
            ]
          },
          "metadata": {
            "tags": []
          },
          "execution_count": 57
        }
      ]
    },
    {
      "cell_type": "code",
      "metadata": {
        "colab": {
          "base_uri": "https://localhost:8080/"
        },
        "id": "55Ixjxlze0CN",
        "outputId": "92f8dbb8-91ae-4c53-8bd0-1d57274808cf"
      },
      "source": [
        "df_formatted.groupby(['course_period'])['work_variety_influence'].describe()"
      ],
      "execution_count": null,
      "outputs": [
        {
          "output_type": "execute_result",
          "data": {
            "text/html": [
              "<div>\n",
              "<style scoped>\n",
              "    .dataframe tbody tr th:only-of-type {\n",
              "        vertical-align: middle;\n",
              "    }\n",
              "\n",
              "    .dataframe tbody tr th {\n",
              "        vertical-align: top;\n",
              "    }\n",
              "\n",
              "    .dataframe thead th {\n",
              "        text-align: right;\n",
              "    }\n",
              "</style>\n",
              "<table border=\"1\" class=\"dataframe\">\n",
              "  <thead>\n",
              "    <tr style=\"text-align: right;\">\n",
              "      <th></th>\n",
              "      <th>count</th>\n",
              "      <th>mean</th>\n",
              "      <th>std</th>\n",
              "      <th>min</th>\n",
              "      <th>25%</th>\n",
              "      <th>50%</th>\n",
              "      <th>75%</th>\n",
              "      <th>max</th>\n",
              "    </tr>\n",
              "    <tr>\n",
              "      <th>course_period</th>\n",
              "      <th></th>\n",
              "      <th></th>\n",
              "      <th></th>\n",
              "      <th></th>\n",
              "      <th></th>\n",
              "      <th></th>\n",
              "      <th></th>\n",
              "      <th></th>\n",
              "    </tr>\n",
              "  </thead>\n",
              "  <tbody>\n",
              "    <tr>\n",
              "      <th>2</th>\n",
              "      <td>2.0</td>\n",
              "      <td>4.500000</td>\n",
              "      <td>0.707107</td>\n",
              "      <td>4.0</td>\n",
              "      <td>4.25</td>\n",
              "      <td>4.5</td>\n",
              "      <td>4.75</td>\n",
              "      <td>5.0</td>\n",
              "    </tr>\n",
              "    <tr>\n",
              "      <th>3</th>\n",
              "      <td>15.0</td>\n",
              "      <td>3.933333</td>\n",
              "      <td>1.279881</td>\n",
              "      <td>1.0</td>\n",
              "      <td>3.00</td>\n",
              "      <td>4.0</td>\n",
              "      <td>5.00</td>\n",
              "      <td>5.0</td>\n",
              "    </tr>\n",
              "    <tr>\n",
              "      <th>4</th>\n",
              "      <td>14.0</td>\n",
              "      <td>3.857143</td>\n",
              "      <td>0.770329</td>\n",
              "      <td>3.0</td>\n",
              "      <td>3.00</td>\n",
              "      <td>4.0</td>\n",
              "      <td>4.00</td>\n",
              "      <td>5.0</td>\n",
              "    </tr>\n",
              "    <tr>\n",
              "      <th>5</th>\n",
              "      <td>3.0</td>\n",
              "      <td>4.333333</td>\n",
              "      <td>0.577350</td>\n",
              "      <td>4.0</td>\n",
              "      <td>4.00</td>\n",
              "      <td>4.0</td>\n",
              "      <td>4.50</td>\n",
              "      <td>5.0</td>\n",
              "    </tr>\n",
              "    <tr>\n",
              "      <th>6</th>\n",
              "      <td>12.0</td>\n",
              "      <td>3.666667</td>\n",
              "      <td>0.778499</td>\n",
              "      <td>3.0</td>\n",
              "      <td>3.00</td>\n",
              "      <td>3.5</td>\n",
              "      <td>4.00</td>\n",
              "      <td>5.0</td>\n",
              "    </tr>\n",
              "    <tr>\n",
              "      <th>7</th>\n",
              "      <td>6.0</td>\n",
              "      <td>3.500000</td>\n",
              "      <td>1.760682</td>\n",
              "      <td>1.0</td>\n",
              "      <td>2.25</td>\n",
              "      <td>4.0</td>\n",
              "      <td>5.00</td>\n",
              "      <td>5.0</td>\n",
              "    </tr>\n",
              "    <tr>\n",
              "      <th>8</th>\n",
              "      <td>8.0</td>\n",
              "      <td>3.250000</td>\n",
              "      <td>1.388730</td>\n",
              "      <td>2.0</td>\n",
              "      <td>2.00</td>\n",
              "      <td>3.0</td>\n",
              "      <td>4.25</td>\n",
              "      <td>5.0</td>\n",
              "    </tr>\n",
              "    <tr>\n",
              "      <th>9</th>\n",
              "      <td>1.0</td>\n",
              "      <td>5.000000</td>\n",
              "      <td>NaN</td>\n",
              "      <td>5.0</td>\n",
              "      <td>5.00</td>\n",
              "      <td>5.0</td>\n",
              "      <td>5.00</td>\n",
              "      <td>5.0</td>\n",
              "    </tr>\n",
              "    <tr>\n",
              "      <th>10</th>\n",
              "      <td>2.0</td>\n",
              "      <td>4.500000</td>\n",
              "      <td>0.707107</td>\n",
              "      <td>4.0</td>\n",
              "      <td>4.25</td>\n",
              "      <td>4.5</td>\n",
              "      <td>4.75</td>\n",
              "      <td>5.0</td>\n",
              "    </tr>\n",
              "  </tbody>\n",
              "</table>\n",
              "</div>"
            ],
            "text/plain": [
              "               count      mean       std  min   25%  50%   75%  max\n",
              "course_period                                                      \n",
              "2                2.0  4.500000  0.707107  4.0  4.25  4.5  4.75  5.0\n",
              "3               15.0  3.933333  1.279881  1.0  3.00  4.0  5.00  5.0\n",
              "4               14.0  3.857143  0.770329  3.0  3.00  4.0  4.00  5.0\n",
              "5                3.0  4.333333  0.577350  4.0  4.00  4.0  4.50  5.0\n",
              "6               12.0  3.666667  0.778499  3.0  3.00  3.5  4.00  5.0\n",
              "7                6.0  3.500000  1.760682  1.0  2.25  4.0  5.00  5.0\n",
              "8                8.0  3.250000  1.388730  2.0  2.00  3.0  4.25  5.0\n",
              "9                1.0  5.000000       NaN  5.0  5.00  5.0  5.00  5.0\n",
              "10               2.0  4.500000  0.707107  4.0  4.25  4.5  4.75  5.0"
            ]
          },
          "metadata": {
            "tags": []
          },
          "execution_count": 58
        }
      ]
    },
    {
      "cell_type": "code",
      "metadata": {
        "colab": {
          "base_uri": "https://localhost:8080/"
        },
        "id": "EMoGZYEIe0J9",
        "outputId": "b45828da-bbd8-4754-e55c-d8ee2b545c50"
      },
      "source": [
        "df_formatted.groupby(['course_period'])['creative_work_influence'].describe()"
      ],
      "execution_count": null,
      "outputs": [
        {
          "output_type": "execute_result",
          "data": {
            "text/html": [
              "<div>\n",
              "<style scoped>\n",
              "    .dataframe tbody tr th:only-of-type {\n",
              "        vertical-align: middle;\n",
              "    }\n",
              "\n",
              "    .dataframe tbody tr th {\n",
              "        vertical-align: top;\n",
              "    }\n",
              "\n",
              "    .dataframe thead th {\n",
              "        text-align: right;\n",
              "    }\n",
              "</style>\n",
              "<table border=\"1\" class=\"dataframe\">\n",
              "  <thead>\n",
              "    <tr style=\"text-align: right;\">\n",
              "      <th></th>\n",
              "      <th>count</th>\n",
              "      <th>mean</th>\n",
              "      <th>std</th>\n",
              "      <th>min</th>\n",
              "      <th>25%</th>\n",
              "      <th>50%</th>\n",
              "      <th>75%</th>\n",
              "      <th>max</th>\n",
              "    </tr>\n",
              "    <tr>\n",
              "      <th>course_period</th>\n",
              "      <th></th>\n",
              "      <th></th>\n",
              "      <th></th>\n",
              "      <th></th>\n",
              "      <th></th>\n",
              "      <th></th>\n",
              "      <th></th>\n",
              "      <th></th>\n",
              "    </tr>\n",
              "  </thead>\n",
              "  <tbody>\n",
              "    <tr>\n",
              "      <th>2</th>\n",
              "      <td>2.0</td>\n",
              "      <td>5.000000</td>\n",
              "      <td>0.000000</td>\n",
              "      <td>5.0</td>\n",
              "      <td>5.00</td>\n",
              "      <td>5.0</td>\n",
              "      <td>5.00</td>\n",
              "      <td>5.0</td>\n",
              "    </tr>\n",
              "    <tr>\n",
              "      <th>3</th>\n",
              "      <td>15.0</td>\n",
              "      <td>4.666667</td>\n",
              "      <td>0.487950</td>\n",
              "      <td>4.0</td>\n",
              "      <td>4.00</td>\n",
              "      <td>5.0</td>\n",
              "      <td>5.00</td>\n",
              "      <td>5.0</td>\n",
              "    </tr>\n",
              "    <tr>\n",
              "      <th>4</th>\n",
              "      <td>14.0</td>\n",
              "      <td>4.214286</td>\n",
              "      <td>0.892582</td>\n",
              "      <td>2.0</td>\n",
              "      <td>4.00</td>\n",
              "      <td>4.0</td>\n",
              "      <td>5.00</td>\n",
              "      <td>5.0</td>\n",
              "    </tr>\n",
              "    <tr>\n",
              "      <th>5</th>\n",
              "      <td>3.0</td>\n",
              "      <td>4.666667</td>\n",
              "      <td>0.577350</td>\n",
              "      <td>4.0</td>\n",
              "      <td>4.50</td>\n",
              "      <td>5.0</td>\n",
              "      <td>5.00</td>\n",
              "      <td>5.0</td>\n",
              "    </tr>\n",
              "    <tr>\n",
              "      <th>6</th>\n",
              "      <td>12.0</td>\n",
              "      <td>4.750000</td>\n",
              "      <td>0.452267</td>\n",
              "      <td>4.0</td>\n",
              "      <td>4.75</td>\n",
              "      <td>5.0</td>\n",
              "      <td>5.00</td>\n",
              "      <td>5.0</td>\n",
              "    </tr>\n",
              "    <tr>\n",
              "      <th>7</th>\n",
              "      <td>6.0</td>\n",
              "      <td>4.500000</td>\n",
              "      <td>0.547723</td>\n",
              "      <td>4.0</td>\n",
              "      <td>4.00</td>\n",
              "      <td>4.5</td>\n",
              "      <td>5.00</td>\n",
              "      <td>5.0</td>\n",
              "    </tr>\n",
              "    <tr>\n",
              "      <th>8</th>\n",
              "      <td>8.0</td>\n",
              "      <td>3.625000</td>\n",
              "      <td>1.060660</td>\n",
              "      <td>2.0</td>\n",
              "      <td>3.00</td>\n",
              "      <td>3.5</td>\n",
              "      <td>4.25</td>\n",
              "      <td>5.0</td>\n",
              "    </tr>\n",
              "    <tr>\n",
              "      <th>9</th>\n",
              "      <td>1.0</td>\n",
              "      <td>5.000000</td>\n",
              "      <td>NaN</td>\n",
              "      <td>5.0</td>\n",
              "      <td>5.00</td>\n",
              "      <td>5.0</td>\n",
              "      <td>5.00</td>\n",
              "      <td>5.0</td>\n",
              "    </tr>\n",
              "    <tr>\n",
              "      <th>10</th>\n",
              "      <td>2.0</td>\n",
              "      <td>4.500000</td>\n",
              "      <td>0.707107</td>\n",
              "      <td>4.0</td>\n",
              "      <td>4.25</td>\n",
              "      <td>4.5</td>\n",
              "      <td>4.75</td>\n",
              "      <td>5.0</td>\n",
              "    </tr>\n",
              "  </tbody>\n",
              "</table>\n",
              "</div>"
            ],
            "text/plain": [
              "               count      mean       std  min   25%  50%   75%  max\n",
              "course_period                                                      \n",
              "2                2.0  5.000000  0.000000  5.0  5.00  5.0  5.00  5.0\n",
              "3               15.0  4.666667  0.487950  4.0  4.00  5.0  5.00  5.0\n",
              "4               14.0  4.214286  0.892582  2.0  4.00  4.0  5.00  5.0\n",
              "5                3.0  4.666667  0.577350  4.0  4.50  5.0  5.00  5.0\n",
              "6               12.0  4.750000  0.452267  4.0  4.75  5.0  5.00  5.0\n",
              "7                6.0  4.500000  0.547723  4.0  4.00  4.5  5.00  5.0\n",
              "8                8.0  3.625000  1.060660  2.0  3.00  3.5  4.25  5.0\n",
              "9                1.0  5.000000       NaN  5.0  5.00  5.0  5.00  5.0\n",
              "10               2.0  4.500000  0.707107  4.0  4.25  4.5  4.75  5.0"
            ]
          },
          "metadata": {
            "tags": []
          },
          "execution_count": 59
        }
      ]
    },
    {
      "cell_type": "code",
      "metadata": {
        "colab": {
          "base_uri": "https://localhost:8080/"
        },
        "id": "h8SndGR-e0Rn",
        "outputId": "bf35bd5e-6727-4548-f63d-9014d4019aee"
      },
      "source": [
        "df_formatted.groupby(['course_period'])['challenging_work_influence'].describe()"
      ],
      "execution_count": null,
      "outputs": [
        {
          "output_type": "execute_result",
          "data": {
            "text/html": [
              "<div>\n",
              "<style scoped>\n",
              "    .dataframe tbody tr th:only-of-type {\n",
              "        vertical-align: middle;\n",
              "    }\n",
              "\n",
              "    .dataframe tbody tr th {\n",
              "        vertical-align: top;\n",
              "    }\n",
              "\n",
              "    .dataframe thead th {\n",
              "        text-align: right;\n",
              "    }\n",
              "</style>\n",
              "<table border=\"1\" class=\"dataframe\">\n",
              "  <thead>\n",
              "    <tr style=\"text-align: right;\">\n",
              "      <th></th>\n",
              "      <th>count</th>\n",
              "      <th>mean</th>\n",
              "      <th>std</th>\n",
              "      <th>min</th>\n",
              "      <th>25%</th>\n",
              "      <th>50%</th>\n",
              "      <th>75%</th>\n",
              "      <th>max</th>\n",
              "    </tr>\n",
              "    <tr>\n",
              "      <th>course_period</th>\n",
              "      <th></th>\n",
              "      <th></th>\n",
              "      <th></th>\n",
              "      <th></th>\n",
              "      <th></th>\n",
              "      <th></th>\n",
              "      <th></th>\n",
              "      <th></th>\n",
              "    </tr>\n",
              "  </thead>\n",
              "  <tbody>\n",
              "    <tr>\n",
              "      <th>2</th>\n",
              "      <td>2.0</td>\n",
              "      <td>4.000000</td>\n",
              "      <td>1.414214</td>\n",
              "      <td>3.0</td>\n",
              "      <td>3.50</td>\n",
              "      <td>4.0</td>\n",
              "      <td>4.50</td>\n",
              "      <td>5.0</td>\n",
              "    </tr>\n",
              "    <tr>\n",
              "      <th>3</th>\n",
              "      <td>15.0</td>\n",
              "      <td>4.400000</td>\n",
              "      <td>0.632456</td>\n",
              "      <td>3.0</td>\n",
              "      <td>4.00</td>\n",
              "      <td>4.0</td>\n",
              "      <td>5.00</td>\n",
              "      <td>5.0</td>\n",
              "    </tr>\n",
              "    <tr>\n",
              "      <th>4</th>\n",
              "      <td>14.0</td>\n",
              "      <td>4.357143</td>\n",
              "      <td>0.744946</td>\n",
              "      <td>3.0</td>\n",
              "      <td>4.00</td>\n",
              "      <td>4.5</td>\n",
              "      <td>5.00</td>\n",
              "      <td>5.0</td>\n",
              "    </tr>\n",
              "    <tr>\n",
              "      <th>5</th>\n",
              "      <td>3.0</td>\n",
              "      <td>4.333333</td>\n",
              "      <td>0.577350</td>\n",
              "      <td>4.0</td>\n",
              "      <td>4.00</td>\n",
              "      <td>4.0</td>\n",
              "      <td>4.50</td>\n",
              "      <td>5.0</td>\n",
              "    </tr>\n",
              "    <tr>\n",
              "      <th>6</th>\n",
              "      <td>12.0</td>\n",
              "      <td>4.083333</td>\n",
              "      <td>0.900337</td>\n",
              "      <td>3.0</td>\n",
              "      <td>3.00</td>\n",
              "      <td>4.0</td>\n",
              "      <td>5.00</td>\n",
              "      <td>5.0</td>\n",
              "    </tr>\n",
              "    <tr>\n",
              "      <th>7</th>\n",
              "      <td>6.0</td>\n",
              "      <td>4.666667</td>\n",
              "      <td>0.516398</td>\n",
              "      <td>4.0</td>\n",
              "      <td>4.25</td>\n",
              "      <td>5.0</td>\n",
              "      <td>5.00</td>\n",
              "      <td>5.0</td>\n",
              "    </tr>\n",
              "    <tr>\n",
              "      <th>8</th>\n",
              "      <td>8.0</td>\n",
              "      <td>3.875000</td>\n",
              "      <td>1.246423</td>\n",
              "      <td>1.0</td>\n",
              "      <td>4.00</td>\n",
              "      <td>4.0</td>\n",
              "      <td>4.25</td>\n",
              "      <td>5.0</td>\n",
              "    </tr>\n",
              "    <tr>\n",
              "      <th>9</th>\n",
              "      <td>1.0</td>\n",
              "      <td>5.000000</td>\n",
              "      <td>NaN</td>\n",
              "      <td>5.0</td>\n",
              "      <td>5.00</td>\n",
              "      <td>5.0</td>\n",
              "      <td>5.00</td>\n",
              "      <td>5.0</td>\n",
              "    </tr>\n",
              "    <tr>\n",
              "      <th>10</th>\n",
              "      <td>2.0</td>\n",
              "      <td>4.000000</td>\n",
              "      <td>0.000000</td>\n",
              "      <td>4.0</td>\n",
              "      <td>4.00</td>\n",
              "      <td>4.0</td>\n",
              "      <td>4.00</td>\n",
              "      <td>4.0</td>\n",
              "    </tr>\n",
              "  </tbody>\n",
              "</table>\n",
              "</div>"
            ],
            "text/plain": [
              "               count      mean       std  min   25%  50%   75%  max\n",
              "course_period                                                      \n",
              "2                2.0  4.000000  1.414214  3.0  3.50  4.0  4.50  5.0\n",
              "3               15.0  4.400000  0.632456  3.0  4.00  4.0  5.00  5.0\n",
              "4               14.0  4.357143  0.744946  3.0  4.00  4.5  5.00  5.0\n",
              "5                3.0  4.333333  0.577350  4.0  4.00  4.0  4.50  5.0\n",
              "6               12.0  4.083333  0.900337  3.0  3.00  4.0  5.00  5.0\n",
              "7                6.0  4.666667  0.516398  4.0  4.25  5.0  5.00  5.0\n",
              "8                8.0  3.875000  1.246423  1.0  4.00  4.0  4.25  5.0\n",
              "9                1.0  5.000000       NaN  5.0  5.00  5.0  5.00  5.0\n",
              "10               2.0  4.000000  0.000000  4.0  4.00  4.0  4.00  4.0"
            ]
          },
          "metadata": {
            "tags": []
          },
          "execution_count": 60
        }
      ]
    },
    {
      "cell_type": "markdown",
      "metadata": {
        "id": "jEx_89HlbKjG"
      },
      "source": [
        "## Análise da disciplina de melhor experiência"
      ]
    },
    {
      "cell_type": "markdown",
      "metadata": {
        "id": "kj5eFE9CcWEl"
      },
      "source": [
        "O gráfico abaixo mostra a relação dos fatores motivacionais com os períodos do curso. É possível perceber que o maior fator é o *well_defined_work*, por ter sido o fator com maior número de votos considerando todos os períodos. Ou seja, o maior fator motivacional é o trabalho bem definido, com tarefas claras e objetivas."
      ]
    },
    {
      "cell_type": "code",
      "metadata": {
        "id": "oZvWh-bscJ4P",
        "colab": {
          "base_uri": "https://localhost:8080/"
        },
        "outputId": "3c058a69-2516-4165-9c45-0ed25aee9704"
      },
      "source": [
        "\n",
        "table = pd.crosstab(index=df_formatted[\"subject_best_exp_factor\"], columns=df_formatted[\"course_period\"])\n",
        "table.plot(kind=\"bar\",figsize=(8,8),stacked=True,title='Relação dos fatores motivacionais com os períodos')"
      ],
      "execution_count": null,
      "outputs": [
        {
          "output_type": "execute_result",
          "data": {
            "text/plain": [
              "<matplotlib.axes._subplots.AxesSubplot at 0x7f94272a1cd0>"
            ]
          },
          "metadata": {
            "tags": []
          },
          "execution_count": 61
        },
        {
          "output_type": "display_data",
          "data": {
            "image/png": "[encoded data removed]",
            "text/plain": [
              "<Figure size 576x576 with 1 Axes>"
            ]
          },
          "metadata": {
            "tags": [],
            "needs_background": "light"
          }
        }
      ]
    },
    {
      "cell_type": "markdown",
      "metadata": {
        "id": "jaI_fAt_c6_C"
      },
      "source": [
        "O gráfico abaixo faz uma relação das disciplinas votadas como a que oferece a melhor experiência e o principal fator para que essa experiência tenha sido boa.\n",
        "\n",
        "Com a figura, podemos concluir que, dentre todas as disciplinas, P2 (Programação 2) é a cadeira que oferece a melhor experiência e o seu maior fator motivacional é o \"Trabalho bem definido\"."
      ]
    },
    {
      "cell_type": "code",
      "metadata": {
        "id": "d3KKJc30ZFXv",
        "colab": {
          "base_uri": "https://localhost:8080/"
        },
        "outputId": "10adbcb3-17a7-4d33-b1a4-3411e1b4cf23"
      },
      "source": [
        "table = pd.crosstab(index=df_formatted[\"subject_best_exp\"], columns=df_formatted[\"subject_best_exp_factor\"])\n",
        "table.plot(kind=\"bar\",figsize=(8,8),stacked=True,title='Relação das disciplinas com os fatores motivacionais')"
      ],
      "execution_count": null,
      "outputs": [
        {
          "output_type": "execute_result",
          "data": {
            "text/plain": [
              "<matplotlib.axes._subplots.AxesSubplot at 0x7f942714eed0>"
            ]
          },
          "metadata": {
            "tags": []
          },
          "execution_count": 62
        },
        {
          "output_type": "display_data",
          "data": {
            "image/png": "[encoded data removed]",
            "text/plain": [
              "<Figure size 576x576 with 1 Axes>"
            ]
          },
          "metadata": {
            "tags": [],
            "needs_background": "light"
          }
        }
      ]
    },
    {
      "cell_type": "markdown",
      "metadata": {
        "id": "4sOD1m4QLrzl"
      },
      "source": [
        "O gráfico abaixo faz uma relação das disciplinas votadas como a que oferece a melhor experiência e o período do curso.\n",
        "\n",
        "Vemos que a cadeira que oferece a maior experiência, considerando todos os períodos, é P2 (Programação 2). Enquanto a menos votada é PCOMPI (Projeto em Computação 1). Esse comportamento pode ser explicado pelo fato de que poucos alunos que responderam já passaram a disciplina de PCOMPI."
      ]
    },
    {
      "cell_type": "code",
      "metadata": {
        "id": "rO5d_neeE-SC",
        "colab": {
          "base_uri": "https://localhost:8080/"
        },
        "outputId": "c1fb41b1-c03b-47a2-aeac-3a829b4d6253"
      },
      "source": [
        "table = pd.crosstab(index=df_formatted[\"subject_best_exp\"], columns=df_formatted[\"course_period\"])\n",
        "table.plot(kind=\"bar\",figsize=(8,8),stacked=True,title='Relação das disciplinas com os períodos do curso')"
      ],
      "execution_count": null,
      "outputs": [
        {
          "output_type": "execute_result",
          "data": {
            "text/plain": [
              "<matplotlib.axes._subplots.AxesSubplot at 0x7f9427032cd0>"
            ]
          },
          "metadata": {
            "tags": []
          },
          "execution_count": 63
        },
        {
          "output_type": "display_data",
          "data": {
            "image/png": "[encoded data removed]",
            "text/plain": [
              "<Figure size 576x576 with 1 Axes>"
            ]
          },
          "metadata": {
            "tags": [],
            "needs_background": "light"
          }
        }
      ]
    },
    {
      "cell_type": "markdown",
      "metadata": {
        "id": "YP3Hl0_bN-VD"
      },
      "source": [
        "## Análise da relação da participação em outros projetos com os fatores motivacionais\n",
        "\n",
        "Nesta seção é apresentada a análise da relação entre a participação em outros projetos com cada fator motivacional. Cada subseção é dedicada a um fator específico.\n",
        "\n",
        "É importante observar que o número de alunos que já participaram de outros projetos é bem maior do que o número dos que não participaram, de modo que, para cada nível de influência a quantidade de votos do primeiro grupo sempre supera o segundo.\n",
        "\n",
        "De modo geral, com as análises abaixo, é possível concluir que os maiores fatores motivacionais são o \"Trabalho bem definido\" e o \"Conhecimento útil\", pois os valores do nível em influência estão entre 3 e 5, mas o nível 5 sendo o que tem a maior quantidade de votos."
      ]
    },
    {
      "cell_type": "markdown",
      "metadata": {
        "id": "5LmqTVvySphB"
      },
      "source": [
        "### Relação com o conhecimento útil\n",
        "\n",
        "Com a tabela e o gráfico abaixo é possível observar que independente da participação em outros projetos, o nível de influência do \"Conhecimento útil\" é alto, com valores entre 3 e 5."
      ]
    },
    {
      "cell_type": "code",
      "metadata": {
        "id": "6OuW-Xp1NMD3",
        "colab": {
          "base_uri": "https://localhost:8080/"
        },
        "outputId": "2b745750-c4a7-4d25-8b12-2d58786e331a"
      },
      "source": [
        "df_formatted.groupby(['participated_in_other_projects'])['useful_knowledge_influence'].describe()"
      ],
      "execution_count": null,
      "outputs": [
        {
          "output_type": "execute_result",
          "data": {
            "text/html": [
              "<div>\n",
              "<style scoped>\n",
              "    .dataframe tbody tr th:only-of-type {\n",
              "        vertical-align: middle;\n",
              "    }\n",
              "\n",
              "    .dataframe tbody tr th {\n",
              "        vertical-align: top;\n",
              "    }\n",
              "\n",
              "    .dataframe thead th {\n",
              "        text-align: right;\n",
              "    }\n",
              "</style>\n",
              "<table border=\"1\" class=\"dataframe\">\n",
              "  <thead>\n",
              "    <tr style=\"text-align: right;\">\n",
              "      <th></th>\n",
              "      <th>count</th>\n",
              "      <th>mean</th>\n",
              "      <th>std</th>\n",
              "      <th>min</th>\n",
              "      <th>25%</th>\n",
              "      <th>50%</th>\n",
              "      <th>75%</th>\n",
              "      <th>max</th>\n",
              "    </tr>\n",
              "    <tr>\n",
              "      <th>participated_in_other_projects</th>\n",
              "      <th></th>\n",
              "      <th></th>\n",
              "      <th></th>\n",
              "      <th></th>\n",
              "      <th></th>\n",
              "      <th></th>\n",
              "      <th></th>\n",
              "      <th></th>\n",
              "    </tr>\n",
              "  </thead>\n",
              "  <tbody>\n",
              "    <tr>\n",
              "      <th>False</th>\n",
              "      <td>18.0</td>\n",
              "      <td>4.888889</td>\n",
              "      <td>0.323381</td>\n",
              "      <td>4.0</td>\n",
              "      <td>5.0</td>\n",
              "      <td>5.0</td>\n",
              "      <td>5.0</td>\n",
              "      <td>5.0</td>\n",
              "    </tr>\n",
              "    <tr>\n",
              "      <th>True</th>\n",
              "      <td>45.0</td>\n",
              "      <td>4.755556</td>\n",
              "      <td>0.528959</td>\n",
              "      <td>3.0</td>\n",
              "      <td>5.0</td>\n",
              "      <td>5.0</td>\n",
              "      <td>5.0</td>\n",
              "      <td>5.0</td>\n",
              "    </tr>\n",
              "  </tbody>\n",
              "</table>\n",
              "</div>"
            ],
            "text/plain": [
              "                                count      mean       std  ...  50%  75%  max\n",
              "participated_in_other_projects                             ...               \n",
              "False                            18.0  4.888889  0.323381  ...  5.0  5.0  5.0\n",
              "True                             45.0  4.755556  0.528959  ...  5.0  5.0  5.0\n",
              "\n",
              "[2 rows x 8 columns]"
            ]
          },
          "metadata": {
            "tags": []
          },
          "execution_count": 64
        }
      ]
    },
    {
      "cell_type": "code",
      "metadata": {
        "id": "ef1RszzdVrmL",
        "colab": {
          "base_uri": "https://localhost:8080/"
        },
        "outputId": "29b976e9-b56a-4507-841d-41b78c7fcf55"
      },
      "source": [
        "table = pd.crosstab(index=df_formatted[\"useful_knowledge_influence\"], columns=df_formatted[\"participated_in_other_projects\"])\n",
        "table.plot(kind=\"bar\",figsize=(8,8),stacked=True,title='Relação do fator \"Conhecimento útil\" com a participação em outros projetos')"
      ],
      "execution_count": null,
      "outputs": [
        {
          "output_type": "execute_result",
          "data": {
            "text/plain": [
              "<matplotlib.axes._subplots.AxesSubplot at 0x7f9426f6b490>"
            ]
          },
          "metadata": {
            "tags": []
          },
          "execution_count": 65
        },
        {
          "output_type": "display_data",
          "data": {
            "image/png": "[encoded data removed]",
            "text/plain": [
              "<Figure size 576x576 with 1 Axes>"
            ]
          },
          "metadata": {
            "tags": [],
            "needs_background": "light"
          }
        }
      ]
    },
    {
      "cell_type": "markdown",
      "metadata": {
        "id": "NE8CSQ2BScFR"
      },
      "source": [
        "### Relação com trabalho bem definido\n",
        "\n",
        "Com a tabela e o gráfico abaixo é possível observar que independente da participação em outros projetos, o nível de influência do \"Trabalho bem definido\" é alto, com valores entre 3 e 5."
      ]
    },
    {
      "cell_type": "code",
      "metadata": {
        "id": "Whh73QFNNzGy",
        "colab": {
          "base_uri": "https://localhost:8080/"
        },
        "outputId": "9020a0d6-f276-4f3e-8841-8d18994c56ac"
      },
      "source": [
        "df_formatted.groupby(['participated_in_other_projects'])['well_defined_work_influence'].describe()"
      ],
      "execution_count": null,
      "outputs": [
        {
          "output_type": "execute_result",
          "data": {
            "text/html": [
              "<div>\n",
              "<style scoped>\n",
              "    .dataframe tbody tr th:only-of-type {\n",
              "        vertical-align: middle;\n",
              "    }\n",
              "\n",
              "    .dataframe tbody tr th {\n",
              "        vertical-align: top;\n",
              "    }\n",
              "\n",
              "    .dataframe thead th {\n",
              "        text-align: right;\n",
              "    }\n",
              "</style>\n",
              "<table border=\"1\" class=\"dataframe\">\n",
              "  <thead>\n",
              "    <tr style=\"text-align: right;\">\n",
              "      <th></th>\n",
              "      <th>count</th>\n",
              "      <th>mean</th>\n",
              "      <th>std</th>\n",
              "      <th>min</th>\n",
              "      <th>25%</th>\n",
              "      <th>50%</th>\n",
              "      <th>75%</th>\n",
              "      <th>max</th>\n",
              "    </tr>\n",
              "    <tr>\n",
              "      <th>participated_in_other_projects</th>\n",
              "      <th></th>\n",
              "      <th></th>\n",
              "      <th></th>\n",
              "      <th></th>\n",
              "      <th></th>\n",
              "      <th></th>\n",
              "      <th></th>\n",
              "      <th></th>\n",
              "    </tr>\n",
              "  </thead>\n",
              "  <tbody>\n",
              "    <tr>\n",
              "      <th>False</th>\n",
              "      <td>18.0</td>\n",
              "      <td>4.611111</td>\n",
              "      <td>0.697802</td>\n",
              "      <td>3.0</td>\n",
              "      <td>4.25</td>\n",
              "      <td>5.0</td>\n",
              "      <td>5.0</td>\n",
              "      <td>5.0</td>\n",
              "    </tr>\n",
              "    <tr>\n",
              "      <th>True</th>\n",
              "      <td>45.0</td>\n",
              "      <td>4.733333</td>\n",
              "      <td>0.539360</td>\n",
              "      <td>3.0</td>\n",
              "      <td>5.00</td>\n",
              "      <td>5.0</td>\n",
              "      <td>5.0</td>\n",
              "      <td>5.0</td>\n",
              "    </tr>\n",
              "  </tbody>\n",
              "</table>\n",
              "</div>"
            ],
            "text/plain": [
              "                                count      mean       std  ...  50%  75%  max\n",
              "participated_in_other_projects                             ...               \n",
              "False                            18.0  4.611111  0.697802  ...  5.0  5.0  5.0\n",
              "True                             45.0  4.733333  0.539360  ...  5.0  5.0  5.0\n",
              "\n",
              "[2 rows x 8 columns]"
            ]
          },
          "metadata": {
            "tags": []
          },
          "execution_count": 66
        }
      ]
    },
    {
      "cell_type": "code",
      "metadata": {
        "colab": {
          "base_uri": "https://localhost:8080/"
        },
        "id": "WtVUUQj7QDZN",
        "outputId": "02b30ae1-e759-46e4-fd41-a906ff536e2e"
      },
      "source": [
        "table = pd.crosstab(index=df_formatted[\"well_defined_work_influence\"], columns=df_formatted[\"participated_in_other_projects\"])\n",
        "table.plot(kind=\"bar\",figsize=(8,8),stacked=True,title='Relação do fator \"Trabalho bem definido\" com a participação em outros projetos')"
      ],
      "execution_count": null,
      "outputs": [
        {
          "output_type": "execute_result",
          "data": {
            "text/plain": [
              "<matplotlib.axes._subplots.AxesSubplot at 0x7f9426ed8c50>"
            ]
          },
          "metadata": {
            "tags": []
          },
          "execution_count": 67
        },
        {
          "output_type": "display_data",
          "data": {
            "image/png": "[encoded data removed]",
            "text/plain": [
              "<Figure size 576x576 with 1 Axes>"
            ]
          },
          "metadata": {
            "tags": [],
            "needs_background": "light"
          }
        }
      ]
    },
    {
      "cell_type": "markdown",
      "metadata": {
        "id": "tCX_-nVmSmh7"
      },
      "source": [
        "### Relação com o trabalho desafiador\n",
        "\n",
        "Nesse caso nós temos um comportamento diferente dos outros fatores já citados. Pois a maior parte dos alunos que não participaram de projeto definiram o nível de influência do \"Trabalho desafiador\" como 4. Mas ainda sim, podemos ver que grande parte dos votos está nos níveis 4 e 5."
      ]
    },
    {
      "cell_type": "code",
      "metadata": {
        "id": "ICFGEMIVNb2s",
        "colab": {
          "base_uri": "https://localhost:8080/"
        },
        "outputId": "23ba8b50-b9f1-42f2-c520-758bb509447d"
      },
      "source": [
        "df_formatted.groupby(['participated_in_other_projects'])['challenging_work_influence'].describe()"
      ],
      "execution_count": null,
      "outputs": [
        {
          "output_type": "execute_result",
          "data": {
            "text/html": [
              "<div>\n",
              "<style scoped>\n",
              "    .dataframe tbody tr th:only-of-type {\n",
              "        vertical-align: middle;\n",
              "    }\n",
              "\n",
              "    .dataframe tbody tr th {\n",
              "        vertical-align: top;\n",
              "    }\n",
              "\n",
              "    .dataframe thead th {\n",
              "        text-align: right;\n",
              "    }\n",
              "</style>\n",
              "<table border=\"1\" class=\"dataframe\">\n",
              "  <thead>\n",
              "    <tr style=\"text-align: right;\">\n",
              "      <th></th>\n",
              "      <th>count</th>\n",
              "      <th>mean</th>\n",
              "      <th>std</th>\n",
              "      <th>min</th>\n",
              "      <th>25%</th>\n",
              "      <th>50%</th>\n",
              "      <th>75%</th>\n",
              "      <th>max</th>\n",
              "    </tr>\n",
              "    <tr>\n",
              "      <th>participated_in_other_projects</th>\n",
              "      <th></th>\n",
              "      <th></th>\n",
              "      <th></th>\n",
              "      <th></th>\n",
              "      <th></th>\n",
              "      <th></th>\n",
              "      <th></th>\n",
              "      <th></th>\n",
              "    </tr>\n",
              "  </thead>\n",
              "  <tbody>\n",
              "    <tr>\n",
              "      <th>False</th>\n",
              "      <td>18.0</td>\n",
              "      <td>4.111111</td>\n",
              "      <td>0.582983</td>\n",
              "      <td>3.0</td>\n",
              "      <td>4.0</td>\n",
              "      <td>4.0</td>\n",
              "      <td>4.0</td>\n",
              "      <td>5.0</td>\n",
              "    </tr>\n",
              "    <tr>\n",
              "      <th>True</th>\n",
              "      <td>45.0</td>\n",
              "      <td>4.333333</td>\n",
              "      <td>0.879049</td>\n",
              "      <td>1.0</td>\n",
              "      <td>4.0</td>\n",
              "      <td>5.0</td>\n",
              "      <td>5.0</td>\n",
              "      <td>5.0</td>\n",
              "    </tr>\n",
              "  </tbody>\n",
              "</table>\n",
              "</div>"
            ],
            "text/plain": [
              "                                count      mean       std  ...  50%  75%  max\n",
              "participated_in_other_projects                             ...               \n",
              "False                            18.0  4.111111  0.582983  ...  4.0  4.0  5.0\n",
              "True                             45.0  4.333333  0.879049  ...  5.0  5.0  5.0\n",
              "\n",
              "[2 rows x 8 columns]"
            ]
          },
          "metadata": {
            "tags": []
          },
          "execution_count": 68
        }
      ]
    },
    {
      "cell_type": "code",
      "metadata": {
        "id": "0hbtve_RVeXT",
        "colab": {
          "base_uri": "https://localhost:8080/"
        },
        "outputId": "99e4cb7a-7f0e-4fc8-8ae7-525d86ce4e84"
      },
      "source": [
        "table = pd.crosstab(index=df_formatted[\"challenging_work_influence\"], columns=df_formatted[\"participated_in_other_projects\"])\n",
        "table.plot(kind=\"bar\",figsize=(8,8),stacked=True,title='Relação do fator \"Trabalho desafiador\" com a participação em outros projetos')"
      ],
      "execution_count": null,
      "outputs": [
        {
          "output_type": "execute_result",
          "data": {
            "text/plain": [
              "<matplotlib.axes._subplots.AxesSubplot at 0x7f9426e4e790>"
            ]
          },
          "metadata": {
            "tags": []
          },
          "execution_count": 69
        },
        {
          "output_type": "display_data",
          "data": {
            "image/png": "[encoded data removed]",
            "text/plain": [
              "<Figure size 576x576 with 1 Axes>"
            ]
          },
          "metadata": {
            "tags": [],
            "needs_background": "light"
          }
        }
      ]
    },
    {
      "cell_type": "markdown",
      "metadata": {
        "id": "LmNgAceeSj2l"
      },
      "source": [
        "### Relação com a variedade do trabalho\n",
        "\n",
        "Aqui nós notamos que os todos os níveis de influência receberam votos, e que o comportamento desses votos para quem já participou ou não de outros projetos é semelhante, pois os valores dos quartis são iguais. Embora haja uma boa distribuição dos votos, os níveis que receberam mais votos é o 4 e o 5."
      ]
    },
    {
      "cell_type": "code",
      "metadata": {
        "id": "OPtjTgrLNjQu",
        "colab": {
          "base_uri": "https://localhost:8080/"
        },
        "outputId": "27e3178b-ebc8-4c43-f0bb-7ef02c040cf5"
      },
      "source": [
        "df_formatted.groupby(['participated_in_other_projects'])['work_variety_influence'].describe()"
      ],
      "execution_count": null,
      "outputs": [
        {
          "output_type": "execute_result",
          "data": {
            "text/html": [
              "<div>\n",
              "<style scoped>\n",
              "    .dataframe tbody tr th:only-of-type {\n",
              "        vertical-align: middle;\n",
              "    }\n",
              "\n",
              "    .dataframe tbody tr th {\n",
              "        vertical-align: top;\n",
              "    }\n",
              "\n",
              "    .dataframe thead th {\n",
              "        text-align: right;\n",
              "    }\n",
              "</style>\n",
              "<table border=\"1\" class=\"dataframe\">\n",
              "  <thead>\n",
              "    <tr style=\"text-align: right;\">\n",
              "      <th></th>\n",
              "      <th>count</th>\n",
              "      <th>mean</th>\n",
              "      <th>std</th>\n",
              "      <th>min</th>\n",
              "      <th>25%</th>\n",
              "      <th>50%</th>\n",
              "      <th>75%</th>\n",
              "      <th>max</th>\n",
              "    </tr>\n",
              "    <tr>\n",
              "      <th>participated_in_other_projects</th>\n",
              "      <th></th>\n",
              "      <th></th>\n",
              "      <th></th>\n",
              "      <th></th>\n",
              "      <th></th>\n",
              "      <th></th>\n",
              "      <th></th>\n",
              "      <th></th>\n",
              "    </tr>\n",
              "  </thead>\n",
              "  <tbody>\n",
              "    <tr>\n",
              "      <th>False</th>\n",
              "      <td>18.0</td>\n",
              "      <td>3.722222</td>\n",
              "      <td>1.274434</td>\n",
              "      <td>1.0</td>\n",
              "      <td>3.0</td>\n",
              "      <td>4.0</td>\n",
              "      <td>5.0</td>\n",
              "      <td>5.0</td>\n",
              "    </tr>\n",
              "    <tr>\n",
              "      <th>True</th>\n",
              "      <td>45.0</td>\n",
              "      <td>3.844444</td>\n",
              "      <td>1.043498</td>\n",
              "      <td>1.0</td>\n",
              "      <td>3.0</td>\n",
              "      <td>4.0</td>\n",
              "      <td>5.0</td>\n",
              "      <td>5.0</td>\n",
              "    </tr>\n",
              "  </tbody>\n",
              "</table>\n",
              "</div>"
            ],
            "text/plain": [
              "                                count      mean       std  ...  50%  75%  max\n",
              "participated_in_other_projects                             ...               \n",
              "False                            18.0  3.722222  1.274434  ...  4.0  5.0  5.0\n",
              "True                             45.0  3.844444  1.043498  ...  4.0  5.0  5.0\n",
              "\n",
              "[2 rows x 8 columns]"
            ]
          },
          "metadata": {
            "tags": []
          },
          "execution_count": 70
        }
      ]
    },
    {
      "cell_type": "code",
      "metadata": {
        "id": "rmC1sHjuUymD",
        "colab": {
          "base_uri": "https://localhost:8080/"
        },
        "outputId": "417beaa7-4964-4fd7-9d15-d0b9c949e26c"
      },
      "source": [
        "table = pd.crosstab(index=df_formatted[\"work_variety_influence\"], columns=df_formatted[\"participated_in_other_projects\"])\n",
        "table.plot(kind=\"bar\",figsize=(8,8),stacked=True,title='Relação do fator \"Variedade de trabalho\" com a participação em outros projetos')"
      ],
      "execution_count": null,
      "outputs": [
        {
          "output_type": "execute_result",
          "data": {
            "text/plain": [
              "<matplotlib.axes._subplots.AxesSubplot at 0x7f9426ecccd0>"
            ]
          },
          "metadata": {
            "tags": []
          },
          "execution_count": 71
        },
        {
          "output_type": "display_data",
          "data": {
            "image/png": "[encoded data removed]",
            "text/plain": [
              "<Figure size 576x576 with 1 Axes>"
            ]
          },
          "metadata": {
            "tags": [],
            "needs_background": "light"
          }
        }
      ]
    },
    {
      "cell_type": "markdown",
      "metadata": {
        "id": "xNVmy2SuSfi8"
      },
      "source": [
        "### Relação com o impacto social\n",
        "\n",
        "Para o fator \"Impacto social\", todos os níveis de influência receberam votos, mas ficaram concentrados no nível 5. Vemos também que os votos dos níveis 1 e 2 foram bem baixos quando comparados aos outros, o que indica que os alunos que não consideram que o impacto social gera alguma motivação são uma exceção."
      ]
    },
    {
      "cell_type": "code",
      "metadata": {
        "id": "x32KwrsaO9cP",
        "colab": {
          "base_uri": "https://localhost:8080/"
        },
        "outputId": "3625a1ef-8fed-427e-a98c-466543e73afc"
      },
      "source": [
        "df_formatted.groupby(['participated_in_other_projects'])['social_impact_influence'].describe()"
      ],
      "execution_count": null,
      "outputs": [
        {
          "output_type": "execute_result",
          "data": {
            "text/html": [
              "<div>\n",
              "<style scoped>\n",
              "    .dataframe tbody tr th:only-of-type {\n",
              "        vertical-align: middle;\n",
              "    }\n",
              "\n",
              "    .dataframe tbody tr th {\n",
              "        vertical-align: top;\n",
              "    }\n",
              "\n",
              "    .dataframe thead th {\n",
              "        text-align: right;\n",
              "    }\n",
              "</style>\n",
              "<table border=\"1\" class=\"dataframe\">\n",
              "  <thead>\n",
              "    <tr style=\"text-align: right;\">\n",
              "      <th></th>\n",
              "      <th>count</th>\n",
              "      <th>mean</th>\n",
              "      <th>std</th>\n",
              "      <th>min</th>\n",
              "      <th>25%</th>\n",
              "      <th>50%</th>\n",
              "      <th>75%</th>\n",
              "      <th>max</th>\n",
              "    </tr>\n",
              "    <tr>\n",
              "      <th>participated_in_other_projects</th>\n",
              "      <th></th>\n",
              "      <th></th>\n",
              "      <th></th>\n",
              "      <th></th>\n",
              "      <th></th>\n",
              "      <th></th>\n",
              "      <th></th>\n",
              "      <th></th>\n",
              "    </tr>\n",
              "  </thead>\n",
              "  <tbody>\n",
              "    <tr>\n",
              "      <th>False</th>\n",
              "      <td>18.0</td>\n",
              "      <td>4.444444</td>\n",
              "      <td>0.921777</td>\n",
              "      <td>2.0</td>\n",
              "      <td>4.0</td>\n",
              "      <td>5.0</td>\n",
              "      <td>5.0</td>\n",
              "      <td>5.0</td>\n",
              "    </tr>\n",
              "    <tr>\n",
              "      <th>True</th>\n",
              "      <td>45.0</td>\n",
              "      <td>4.488889</td>\n",
              "      <td>0.815259</td>\n",
              "      <td>1.0</td>\n",
              "      <td>4.0</td>\n",
              "      <td>5.0</td>\n",
              "      <td>5.0</td>\n",
              "      <td>5.0</td>\n",
              "    </tr>\n",
              "  </tbody>\n",
              "</table>\n",
              "</div>"
            ],
            "text/plain": [
              "                                count      mean       std  ...  50%  75%  max\n",
              "participated_in_other_projects                             ...               \n",
              "False                            18.0  4.444444  0.921777  ...  5.0  5.0  5.0\n",
              "True                             45.0  4.488889  0.815259  ...  5.0  5.0  5.0\n",
              "\n",
              "[2 rows x 8 columns]"
            ]
          },
          "metadata": {
            "tags": []
          },
          "execution_count": 72
        }
      ]
    },
    {
      "cell_type": "code",
      "metadata": {
        "id": "nN1NjiEnWYKZ",
        "colab": {
          "base_uri": "https://localhost:8080/"
        },
        "outputId": "954b508b-bd76-43f1-e028-329cf36b7652"
      },
      "source": [
        "table = pd.crosstab(index=df_formatted[\"social_impact_influence\"], columns=df_formatted[\"participated_in_other_projects\"])\n",
        "table.plot(kind=\"bar\",figsize=(8,8),stacked=True,title='Relação do fator \"Impacto social\" com a participação em outros projetos')"
      ],
      "execution_count": null,
      "outputs": [
        {
          "output_type": "execute_result",
          "data": {
            "text/plain": [
              "<matplotlib.axes._subplots.AxesSubplot at 0x7f9426d6ed50>"
            ]
          },
          "metadata": {
            "tags": []
          },
          "execution_count": 73
        },
        {
          "output_type": "display_data",
          "data": {
            "image/png": "[encoded data removed]",
            "text/plain": [
              "<Figure size 576x576 with 1 Axes>"
            ]
          },
          "metadata": {
            "tags": [],
            "needs_background": "light"
          }
        }
      ]
    },
    {
      "cell_type": "markdown",
      "metadata": {
        "id": "CsIB_UF0SR70"
      },
      "source": [
        "### Relação com a carga de trabalho\n",
        "\n",
        "Para o fator \"Carga de trabaho\" os votos estão apenas entre 3 e 5, embora a grande concentração dos votos está no nível 5."
      ]
    },
    {
      "cell_type": "code",
      "metadata": {
        "id": "sStnDLPaPJDE",
        "colab": {
          "base_uri": "https://localhost:8080/"
        },
        "outputId": "a8ccd730-c2b2-4923-ca69-134ec6d1666b"
      },
      "source": [
        "df_formatted.groupby(['participated_in_other_projects'])['workload_influence'].describe()\n"
      ],
      "execution_count": null,
      "outputs": [
        {
          "output_type": "execute_result",
          "data": {
            "text/html": [
              "<div>\n",
              "<style scoped>\n",
              "    .dataframe tbody tr th:only-of-type {\n",
              "        vertical-align: middle;\n",
              "    }\n",
              "\n",
              "    .dataframe tbody tr th {\n",
              "        vertical-align: top;\n",
              "    }\n",
              "\n",
              "    .dataframe thead th {\n",
              "        text-align: right;\n",
              "    }\n",
              "</style>\n",
              "<table border=\"1\" class=\"dataframe\">\n",
              "  <thead>\n",
              "    <tr style=\"text-align: right;\">\n",
              "      <th></th>\n",
              "      <th>count</th>\n",
              "      <th>mean</th>\n",
              "      <th>std</th>\n",
              "      <th>min</th>\n",
              "      <th>25%</th>\n",
              "      <th>50%</th>\n",
              "      <th>75%</th>\n",
              "      <th>max</th>\n",
              "    </tr>\n",
              "    <tr>\n",
              "      <th>participated_in_other_projects</th>\n",
              "      <th></th>\n",
              "      <th></th>\n",
              "      <th></th>\n",
              "      <th></th>\n",
              "      <th></th>\n",
              "      <th></th>\n",
              "      <th></th>\n",
              "      <th></th>\n",
              "    </tr>\n",
              "  </thead>\n",
              "  <tbody>\n",
              "    <tr>\n",
              "      <th>False</th>\n",
              "      <td>18.0</td>\n",
              "      <td>4.388889</td>\n",
              "      <td>0.777544</td>\n",
              "      <td>3.0</td>\n",
              "      <td>4.0</td>\n",
              "      <td>5.0</td>\n",
              "      <td>5.0</td>\n",
              "      <td>5.0</td>\n",
              "    </tr>\n",
              "    <tr>\n",
              "      <th>True</th>\n",
              "      <td>45.0</td>\n",
              "      <td>4.733333</td>\n",
              "      <td>0.579969</td>\n",
              "      <td>3.0</td>\n",
              "      <td>5.0</td>\n",
              "      <td>5.0</td>\n",
              "      <td>5.0</td>\n",
              "      <td>5.0</td>\n",
              "    </tr>\n",
              "  </tbody>\n",
              "</table>\n",
              "</div>"
            ],
            "text/plain": [
              "                                count      mean       std  ...  50%  75%  max\n",
              "participated_in_other_projects                             ...               \n",
              "False                            18.0  4.388889  0.777544  ...  5.0  5.0  5.0\n",
              "True                             45.0  4.733333  0.579969  ...  5.0  5.0  5.0\n",
              "\n",
              "[2 rows x 8 columns]"
            ]
          },
          "metadata": {
            "tags": []
          },
          "execution_count": 74
        }
      ]
    },
    {
      "cell_type": "code",
      "metadata": {
        "id": "yto-12WqR7Q9",
        "colab": {
          "base_uri": "https://localhost:8080/"
        },
        "outputId": "d52319c8-3600-4ce7-b5d5-544a442b6935"
      },
      "source": [
        "table = pd.crosstab(index=df_formatted[\"workload_influence\"], columns=df_formatted[\"participated_in_other_projects\"])\n",
        "table.plot(kind=\"bar\",figsize=(8,8),stacked=True,title='Relação do fator \"Carga de trabalho\" com a participação em outros projetos')"
      ],
      "execution_count": null,
      "outputs": [
        {
          "output_type": "execute_result",
          "data": {
            "text/plain": [
              "<matplotlib.axes._subplots.AxesSubplot at 0x7f9426d1fb50>"
            ]
          },
          "metadata": {
            "tags": []
          },
          "execution_count": 75
        },
        {
          "output_type": "display_data",
          "data": {
            "image/png": "[encoded data removed]",
            "text/plain": [
              "<Figure size 576x576 with 1 Axes>"
            ]
          },
          "metadata": {
            "tags": [],
            "needs_background": "light"
          }
        }
      ]
    },
    {
      "cell_type": "markdown",
      "metadata": {
        "id": "EaulHjU0QecB"
      },
      "source": [
        "### Relação com o trabalho criativo\n",
        "\n",
        "Para o \"Trabalho criativo\" os valores também estão concentrados entre os níveis 4 e 5, embora tenhamos alguns valores para os níveis 2 e 3. Como não temos valores para o nível 1 (\"Não influencia\"), podemos concluir que todos os alunos consideram que o trabalho criativo gera algum impacto na motivação."
      ]
    },
    {
      "cell_type": "code",
      "metadata": {
        "id": "84E3NmyaPTbY",
        "colab": {
          "base_uri": "https://localhost:8080/"
        },
        "outputId": "de8a41a5-c84e-4a5e-ae02-c6f1be687ccb"
      },
      "source": [
        "df_formatted.groupby(['participated_in_other_projects'])['creative_work_influence'].describe() \n"
      ],
      "execution_count": null,
      "outputs": [
        {
          "output_type": "execute_result",
          "data": {
            "text/html": [
              "<div>\n",
              "<style scoped>\n",
              "    .dataframe tbody tr th:only-of-type {\n",
              "        vertical-align: middle;\n",
              "    }\n",
              "\n",
              "    .dataframe tbody tr th {\n",
              "        vertical-align: top;\n",
              "    }\n",
              "\n",
              "    .dataframe thead th {\n",
              "        text-align: right;\n",
              "    }\n",
              "</style>\n",
              "<table border=\"1\" class=\"dataframe\">\n",
              "  <thead>\n",
              "    <tr style=\"text-align: right;\">\n",
              "      <th></th>\n",
              "      <th>count</th>\n",
              "      <th>mean</th>\n",
              "      <th>std</th>\n",
              "      <th>min</th>\n",
              "      <th>25%</th>\n",
              "      <th>50%</th>\n",
              "      <th>75%</th>\n",
              "      <th>max</th>\n",
              "    </tr>\n",
              "    <tr>\n",
              "      <th>participated_in_other_projects</th>\n",
              "      <th></th>\n",
              "      <th></th>\n",
              "      <th></th>\n",
              "      <th></th>\n",
              "      <th></th>\n",
              "      <th></th>\n",
              "      <th></th>\n",
              "      <th></th>\n",
              "    </tr>\n",
              "  </thead>\n",
              "  <tbody>\n",
              "    <tr>\n",
              "      <th>False</th>\n",
              "      <td>18.0</td>\n",
              "      <td>4.333333</td>\n",
              "      <td>0.766965</td>\n",
              "      <td>2.0</td>\n",
              "      <td>4.0</td>\n",
              "      <td>4.0</td>\n",
              "      <td>5.0</td>\n",
              "      <td>5.0</td>\n",
              "    </tr>\n",
              "    <tr>\n",
              "      <th>True</th>\n",
              "      <td>45.0</td>\n",
              "      <td>4.488889</td>\n",
              "      <td>0.757455</td>\n",
              "      <td>2.0</td>\n",
              "      <td>4.0</td>\n",
              "      <td>5.0</td>\n",
              "      <td>5.0</td>\n",
              "      <td>5.0</td>\n",
              "    </tr>\n",
              "  </tbody>\n",
              "</table>\n",
              "</div>"
            ],
            "text/plain": [
              "                                count      mean       std  ...  50%  75%  max\n",
              "participated_in_other_projects                             ...               \n",
              "False                            18.0  4.333333  0.766965  ...  4.0  5.0  5.0\n",
              "True                             45.0  4.488889  0.757455  ...  5.0  5.0  5.0\n",
              "\n",
              "[2 rows x 8 columns]"
            ]
          },
          "metadata": {
            "tags": []
          },
          "execution_count": 76
        }
      ]
    },
    {
      "cell_type": "code",
      "metadata": {
        "id": "kuoLoiZvQ0wC",
        "colab": {
          "base_uri": "https://localhost:8080/"
        },
        "outputId": "48718d2f-ebb5-425f-d1e1-882ed2f7aee3"
      },
      "source": [
        "table = pd.crosstab(index=df_formatted[\"creative_work_influence\"], columns=df_formatted[\"participated_in_other_projects\"])\n",
        "table.plot(kind=\"bar\",figsize=(8,8),stacked=True,title='Relação do fator \"Trabalho\" com a participação em outros projetos')"
      ],
      "execution_count": null,
      "outputs": [
        {
          "output_type": "execute_result",
          "data": {
            "text/plain": [
              "<matplotlib.axes._subplots.AxesSubplot at 0x7f9426c05510>"
            ]
          },
          "metadata": {
            "tags": []
          },
          "execution_count": 77
        },
        {
          "output_type": "display_data",
          "data": {
            "image/png": "[encoded data removed]",
            "text/plain": [
              "<Figure size 576x576 with 1 Axes>"
            ]
          },
          "metadata": {
            "tags": [],
            "needs_background": "light"
          }
        }
      ]
    },
    {
      "cell_type": "markdown",
      "metadata": {
        "id": "z07-JogRlZAt"
      },
      "source": [
        "## Análise da correlação entre as variáveis\n",
        "\n",
        "> Legenda:\n",
        "> * 0.9 a 1 positivo ou negativo indica uma correlação muito forte.\n",
        "> * 0.7 a 0.9 positivo ou negativo indica uma correlação forte.\n",
        "> * 0.5 a 0.7 positivo ou negativo indica uma correlação moderada.\n",
        "> * 0.3 a 0.5 positivo ou negativo indica uma correlação fraca.\n",
        "> * 0 a 0.3 positivo ou negativo indica uma correlação desprezível.\n",
        "\n",
        "* É possível observar que `well_defined_work_influence` e `workload_influence` apresentam uma correlação forte.\n",
        "* É possível observar que `challenging_work_influence` e `workload_influence` apresentam uma correlação fraca.\n",
        "* É possível observar que `work_variety_influence` e `creative_work_influence` apresentam uma correlação fraca.\n",
        "* É possível observar que `challenging_work_influence` e `creative_work_influence` apresentam correlação fraca.  \n",
        "* É possível observar que `challenging_work_influence` e `workload_influence` apresentam correlação fraca.\n",
        "\n",
        "**Todas as demais variáveis mostram ter correlação desprezível.**"
      ]
    },
    {
      "cell_type": "code",
      "metadata": {
        "colab": {
          "base_uri": "https://localhost:8080/"
        },
        "id": "m02O-i7ydLx4",
        "outputId": "15b63bce-b74f-4f97-d611-424c5061c693"
      },
      "source": [
        "corr = df_formatted.corr(method=\"pearson\")\n",
        "corr.style.background_gradient(cmap=\"coolwarm\")"
      ],
      "execution_count": null,
      "outputs": [
        {
          "output_type": "execute_result",
          "data": {
            "text/html": [
              "<style  type=\"text/css\" >\n",
              "#T_4bd60c22_a07c_11eb_91e0_0242ac1c0002row0_col0,#T_4bd60c22_a07c_11eb_91e0_0242ac1c0002row1_col1,#T_4bd60c22_a07c_11eb_91e0_0242ac1c0002row2_col2,#T_4bd60c22_a07c_11eb_91e0_0242ac1c0002row3_col3,#T_4bd60c22_a07c_11eb_91e0_0242ac1c0002row4_col4,#T_4bd60c22_a07c_11eb_91e0_0242ac1c0002row5_col5,#T_4bd60c22_a07c_11eb_91e0_0242ac1c0002row6_col6,#T_4bd60c22_a07c_11eb_91e0_0242ac1c0002row7_col7,#T_4bd60c22_a07c_11eb_91e0_0242ac1c0002row8_col8{\n",
              "            background-color:  #b40426;\n",
              "            color:  #f1f1f1;\n",
              "        }#T_4bd60c22_a07c_11eb_91e0_0242ac1c0002row0_col1,#T_4bd60c22_a07c_11eb_91e0_0242ac1c0002row0_col2,#T_4bd60c22_a07c_11eb_91e0_0242ac1c0002row0_col3,#T_4bd60c22_a07c_11eb_91e0_0242ac1c0002row0_col4,#T_4bd60c22_a07c_11eb_91e0_0242ac1c0002row0_col5,#T_4bd60c22_a07c_11eb_91e0_0242ac1c0002row0_col6,#T_4bd60c22_a07c_11eb_91e0_0242ac1c0002row0_col7,#T_4bd60c22_a07c_11eb_91e0_0242ac1c0002row3_col8,#T_4bd60c22_a07c_11eb_91e0_0242ac1c0002row4_col0,#T_4bd60c22_a07c_11eb_91e0_0242ac1c0002row8_col3{\n",
              "            background-color:  #3b4cc0;\n",
              "            color:  #f1f1f1;\n",
              "        }#T_4bd60c22_a07c_11eb_91e0_0242ac1c0002row0_col8{\n",
              "            background-color:  #9fbfff;\n",
              "            color:  #000000;\n",
              "        }#T_4bd60c22_a07c_11eb_91e0_0242ac1c0002row1_col0{\n",
              "            background-color:  #506bda;\n",
              "            color:  #000000;\n",
              "        }#T_4bd60c22_a07c_11eb_91e0_0242ac1c0002row1_col2{\n",
              "            background-color:  #f7a889;\n",
              "            color:  #000000;\n",
              "        }#T_4bd60c22_a07c_11eb_91e0_0242ac1c0002row1_col3{\n",
              "            background-color:  #b6cefa;\n",
              "            color:  #000000;\n",
              "        }#T_4bd60c22_a07c_11eb_91e0_0242ac1c0002row1_col4,#T_4bd60c22_a07c_11eb_91e0_0242ac1c0002row3_col4{\n",
              "            background-color:  #abc8fd;\n",
              "            color:  #000000;\n",
              "        }#T_4bd60c22_a07c_11eb_91e0_0242ac1c0002row1_col5,#T_4bd60c22_a07c_11eb_91e0_0242ac1c0002row5_col3{\n",
              "            background-color:  #3f53c6;\n",
              "            color:  #f1f1f1;\n",
              "        }#T_4bd60c22_a07c_11eb_91e0_0242ac1c0002row1_col6{\n",
              "            background-color:  #94b6ff;\n",
              "            color:  #000000;\n",
              "        }#T_4bd60c22_a07c_11eb_91e0_0242ac1c0002row1_col7{\n",
              "            background-color:  #adc9fd;\n",
              "            color:  #000000;\n",
              "        }#T_4bd60c22_a07c_11eb_91e0_0242ac1c0002row1_col8{\n",
              "            background-color:  #7a9df8;\n",
              "            color:  #000000;\n",
              "        }#T_4bd60c22_a07c_11eb_91e0_0242ac1c0002row2_col0{\n",
              "            background-color:  #81a4fb;\n",
              "            color:  #000000;\n",
              "        }#T_4bd60c22_a07c_11eb_91e0_0242ac1c0002row2_col1{\n",
              "            background-color:  #f39778;\n",
              "            color:  #000000;\n",
              "        }#T_4bd60c22_a07c_11eb_91e0_0242ac1c0002row2_col3{\n",
              "            background-color:  #a1c0ff;\n",
              "            color:  #000000;\n",
              "        }#T_4bd60c22_a07c_11eb_91e0_0242ac1c0002row2_col4{\n",
              "            background-color:  #9ebeff;\n",
              "            color:  #000000;\n",
              "        }#T_4bd60c22_a07c_11eb_91e0_0242ac1c0002row2_col5,#T_4bd60c22_a07c_11eb_91e0_0242ac1c0002row4_col7,#T_4bd60c22_a07c_11eb_91e0_0242ac1c0002row7_col3{\n",
              "            background-color:  #6384eb;\n",
              "            color:  #000000;\n",
              "        }#T_4bd60c22_a07c_11eb_91e0_0242ac1c0002row2_col6{\n",
              "            background-color:  #bcd2f7;\n",
              "            color:  #000000;\n",
              "        }#T_4bd60c22_a07c_11eb_91e0_0242ac1c0002row2_col7,#T_4bd60c22_a07c_11eb_91e0_0242ac1c0002row6_col5{\n",
              "            background-color:  #c0d4f5;\n",
              "            color:  #000000;\n",
              "        }#T_4bd60c22_a07c_11eb_91e0_0242ac1c0002row2_col8,#T_4bd60c22_a07c_11eb_91e0_0242ac1c0002row5_col7{\n",
              "            background-color:  #a7c5fe;\n",
              "            color:  #000000;\n",
              "        }#T_4bd60c22_a07c_11eb_91e0_0242ac1c0002row3_col0{\n",
              "            background-color:  #5b7ae5;\n",
              "            color:  #000000;\n",
              "        }#T_4bd60c22_a07c_11eb_91e0_0242ac1c0002row3_col1{\n",
              "            background-color:  #bed2f6;\n",
              "            color:  #000000;\n",
              "        }#T_4bd60c22_a07c_11eb_91e0_0242ac1c0002row3_col2,#T_4bd60c22_a07c_11eb_91e0_0242ac1c0002row8_col7{\n",
              "            background-color:  #7da0f9;\n",
              "            color:  #000000;\n",
              "        }#T_4bd60c22_a07c_11eb_91e0_0242ac1c0002row3_col5{\n",
              "            background-color:  #3c4ec2;\n",
              "            color:  #f1f1f1;\n",
              "        }#T_4bd60c22_a07c_11eb_91e0_0242ac1c0002row3_col6{\n",
              "            background-color:  #86a9fc;\n",
              "            color:  #000000;\n",
              "        }#T_4bd60c22_a07c_11eb_91e0_0242ac1c0002row3_col7{\n",
              "            background-color:  #5d7ce6;\n",
              "            color:  #000000;\n",
              "        }#T_4bd60c22_a07c_11eb_91e0_0242ac1c0002row4_col1{\n",
              "            background-color:  #98b9ff;\n",
              "            color:  #000000;\n",
              "        }#T_4bd60c22_a07c_11eb_91e0_0242ac1c0002row4_col2{\n",
              "            background-color:  #5977e3;\n",
              "            color:  #000000;\n",
              "        }#T_4bd60c22_a07c_11eb_91e0_0242ac1c0002row4_col3,#T_4bd60c22_a07c_11eb_91e0_0242ac1c0002row6_col4{\n",
              "            background-color:  #90b2fe;\n",
              "            color:  #000000;\n",
              "        }#T_4bd60c22_a07c_11eb_91e0_0242ac1c0002row4_col5{\n",
              "            background-color:  #93b5fe;\n",
              "            color:  #000000;\n",
              "        }#T_4bd60c22_a07c_11eb_91e0_0242ac1c0002row4_col6,#T_4bd60c22_a07c_11eb_91e0_0242ac1c0002row7_col8,#T_4bd60c22_a07c_11eb_91e0_0242ac1c0002row8_col1,#T_4bd60c22_a07c_11eb_91e0_0242ac1c0002row8_col4{\n",
              "            background-color:  #84a7fc;\n",
              "            color:  #000000;\n",
              "        }#T_4bd60c22_a07c_11eb_91e0_0242ac1c0002row4_col8{\n",
              "            background-color:  #6485ec;\n",
              "            color:  #000000;\n",
              "        }#T_4bd60c22_a07c_11eb_91e0_0242ac1c0002row5_col0{\n",
              "            background-color:  #5e7de7;\n",
              "            color:  #000000;\n",
              "        }#T_4bd60c22_a07c_11eb_91e0_0242ac1c0002row5_col1{\n",
              "            background-color:  #4e68d8;\n",
              "            color:  #000000;\n",
              "        }#T_4bd60c22_a07c_11eb_91e0_0242ac1c0002row5_col2{\n",
              "            background-color:  #4055c8;\n",
              "            color:  #f1f1f1;\n",
              "        }#T_4bd60c22_a07c_11eb_91e0_0242ac1c0002row5_col4{\n",
              "            background-color:  #b1cbfc;\n",
              "            color:  #000000;\n",
              "        }#T_4bd60c22_a07c_11eb_91e0_0242ac1c0002row5_col6{\n",
              "            background-color:  #cdd9ec;\n",
              "            color:  #000000;\n",
              "        }#T_4bd60c22_a07c_11eb_91e0_0242ac1c0002row5_col8{\n",
              "            background-color:  #6c8ff1;\n",
              "            color:  #000000;\n",
              "        }#T_4bd60c22_a07c_11eb_91e0_0242ac1c0002row6_col0{\n",
              "            background-color:  #485fd1;\n",
              "            color:  #f1f1f1;\n",
              "        }#T_4bd60c22_a07c_11eb_91e0_0242ac1c0002row6_col1{\n",
              "            background-color:  #8caffe;\n",
              "            color:  #000000;\n",
              "        }#T_4bd60c22_a07c_11eb_91e0_0242ac1c0002row6_col2{\n",
              "            background-color:  #8fb1fe;\n",
              "            color:  #000000;\n",
              "        }#T_4bd60c22_a07c_11eb_91e0_0242ac1c0002row6_col3{\n",
              "            background-color:  #7597f6;\n",
              "            color:  #000000;\n",
              "        }#T_4bd60c22_a07c_11eb_91e0_0242ac1c0002row6_col7{\n",
              "            background-color:  #cbd8ee;\n",
              "            color:  #000000;\n",
              "        }#T_4bd60c22_a07c_11eb_91e0_0242ac1c0002row6_col8{\n",
              "            background-color:  #799cf8;\n",
              "            color:  #000000;\n",
              "        }#T_4bd60c22_a07c_11eb_91e0_0242ac1c0002row7_col0{\n",
              "            background-color:  #6282ea;\n",
              "            color:  #000000;\n",
              "        }#T_4bd60c22_a07c_11eb_91e0_0242ac1c0002row7_col1{\n",
              "            background-color:  #bad0f8;\n",
              "            color:  #000000;\n",
              "        }#T_4bd60c22_a07c_11eb_91e0_0242ac1c0002row7_col2,#T_4bd60c22_a07c_11eb_91e0_0242ac1c0002row7_col5{\n",
              "            background-color:  #a9c6fd;\n",
              "            color:  #000000;\n",
              "        }#T_4bd60c22_a07c_11eb_91e0_0242ac1c0002row7_col4{\n",
              "            background-color:  #89acfd;\n",
              "            color:  #000000;\n",
              "        }#T_4bd60c22_a07c_11eb_91e0_0242ac1c0002row7_col6{\n",
              "            background-color:  #d8dce2;\n",
              "            color:  #000000;\n",
              "        }#T_4bd60c22_a07c_11eb_91e0_0242ac1c0002row8_col0{\n",
              "            background-color:  #b7cff9;\n",
              "            color:  #000000;\n",
              "        }#T_4bd60c22_a07c_11eb_91e0_0242ac1c0002row8_col2{\n",
              "            background-color:  #85a8fc;\n",
              "            color:  #000000;\n",
              "        }#T_4bd60c22_a07c_11eb_91e0_0242ac1c0002row8_col5{\n",
              "            background-color:  #688aef;\n",
              "            color:  #000000;\n",
              "        }#T_4bd60c22_a07c_11eb_91e0_0242ac1c0002row8_col6{\n",
              "            background-color:  #8badfd;\n",
              "            color:  #000000;\n",
              "        }</style><table id=\"T_4bd60c22_a07c_11eb_91e0_0242ac1c0002\" ><thead>    <tr>        <th class=\"blank level0\" ></th>        <th class=\"col_heading level0 col0\" >course_period</th>        <th class=\"col_heading level0 col1\" >well_defined_work_influence</th>        <th class=\"col_heading level0 col2\" >workload_influence</th>        <th class=\"col_heading level0 col3\" >useful_knowledge_influence</th>        <th class=\"col_heading level0 col4\" >social_impact_influence</th>        <th class=\"col_heading level0 col5\" >work_variety_influence</th>        <th class=\"col_heading level0 col6\" >creative_work_influence</th>        <th class=\"col_heading level0 col7\" >challenging_work_influence</th>        <th class=\"col_heading level0 col8\" >participated_in_other_projects</th>    </tr></thead><tbody>\n",
              "                <tr>\n",
              "                        <th id=\"T_4bd60c22_a07c_11eb_91e0_0242ac1c0002level0_row0\" class=\"row_heading level0 row0\" >course_period</th>\n",
              "                        <td id=\"T_4bd60c22_a07c_11eb_91e0_0242ac1c0002row0_col0\" class=\"data row0 col0\" >1.000000</td>\n",
              "                        <td id=\"T_4bd60c22_a07c_11eb_91e0_0242ac1c0002row0_col1\" class=\"data row0 col1\" >-0.165312</td>\n",
              "                        <td id=\"T_4bd60c22_a07c_11eb_91e0_0242ac1c0002row0_col2\" class=\"data row0 col2\" >0.016487</td>\n",
              "                        <td id=\"T_4bd60c22_a07c_11eb_91e0_0242ac1c0002row0_col3\" class=\"data row0 col3\" >-0.122444</td>\n",
              "                        <td id=\"T_4bd60c22_a07c_11eb_91e0_0242ac1c0002row0_col4\" class=\"data row0 col4\" >-0.258122</td>\n",
              "                        <td id=\"T_4bd60c22_a07c_11eb_91e0_0242ac1c0002row0_col5\" class=\"data row0 col5\" >-0.111209</td>\n",
              "                        <td id=\"T_4bd60c22_a07c_11eb_91e0_0242ac1c0002row0_col6\" class=\"data row0 col6\" >-0.199658</td>\n",
              "                        <td id=\"T_4bd60c22_a07c_11eb_91e0_0242ac1c0002row0_col7\" class=\"data row0 col7\" >-0.099173</td>\n",
              "                        <td id=\"T_4bd60c22_a07c_11eb_91e0_0242ac1c0002row0_col8\" class=\"data row0 col8\" >0.213443</td>\n",
              "            </tr>\n",
              "            <tr>\n",
              "                        <th id=\"T_4bd60c22_a07c_11eb_91e0_0242ac1c0002level0_row1\" class=\"row_heading level0 row1\" >well_defined_work_influence</th>\n",
              "                        <td id=\"T_4bd60c22_a07c_11eb_91e0_0242ac1c0002row1_col0\" class=\"data row1 col0\" >-0.165312</td>\n",
              "                        <td id=\"T_4bd60c22_a07c_11eb_91e0_0242ac1c0002row1_col1\" class=\"data row1 col1\" >1.000000</td>\n",
              "                        <td id=\"T_4bd60c22_a07c_11eb_91e0_0242ac1c0002row1_col2\" class=\"data row1 col2\" >0.717330</td>\n",
              "                        <td id=\"T_4bd60c22_a07c_11eb_91e0_0242ac1c0002row1_col3\" class=\"data row1 col3\" >0.291068</td>\n",
              "                        <td id=\"T_4bd60c22_a07c_11eb_91e0_0242ac1c0002row1_col4\" class=\"data row1 col4\" >0.165536</td>\n",
              "                        <td id=\"T_4bd60c22_a07c_11eb_91e0_0242ac1c0002row1_col5\" class=\"data row1 col5\" >-0.090183</td>\n",
              "                        <td id=\"T_4bd60c22_a07c_11eb_91e0_0242ac1c0002row1_col6\" class=\"data row1 col6\" >0.125252</td>\n",
              "                        <td id=\"T_4bd60c22_a07c_11eb_91e0_0242ac1c0002row1_col7\" class=\"data row1 col7\" >0.277197</td>\n",
              "                        <td id=\"T_4bd60c22_a07c_11eb_91e0_0242ac1c0002row1_col8\" class=\"data row1 col8\" >0.095026</td>\n",
              "            </tr>\n",
              "            <tr>\n",
              "                        <th id=\"T_4bd60c22_a07c_11eb_91e0_0242ac1c0002level0_row2\" class=\"row_heading level0 row2\" >workload_influence</th>\n",
              "                        <td id=\"T_4bd60c22_a07c_11eb_91e0_0242ac1c0002row2_col0\" class=\"data row2 col0\" >0.016487</td>\n",
              "                        <td id=\"T_4bd60c22_a07c_11eb_91e0_0242ac1c0002row2_col1\" class=\"data row2 col1\" >0.717330</td>\n",
              "                        <td id=\"T_4bd60c22_a07c_11eb_91e0_0242ac1c0002row2_col2\" class=\"data row2 col2\" >1.000000</td>\n",
              "                        <td id=\"T_4bd60c22_a07c_11eb_91e0_0242ac1c0002row2_col3\" class=\"data row2 col3\" >0.217969</td>\n",
              "                        <td id=\"T_4bd60c22_a07c_11eb_91e0_0242ac1c0002row2_col4\" class=\"data row2 col4\" >0.115899</td>\n",
              "                        <td id=\"T_4bd60c22_a07c_11eb_91e0_0242ac1c0002row2_col5\" class=\"data row2 col5\" >0.036075</td>\n",
              "                        <td id=\"T_4bd60c22_a07c_11eb_91e0_0242ac1c0002row2_col6\" class=\"data row2 col6\" >0.267343</td>\n",
              "                        <td id=\"T_4bd60c22_a07c_11eb_91e0_0242ac1c0002row2_col7\" class=\"data row2 col7\" >0.341774</td>\n",
              "                        <td id=\"T_4bd60c22_a07c_11eb_91e0_0242ac1c0002row2_col8\" class=\"data row2 col8\" >0.239455</td>\n",
              "            </tr>\n",
              "            <tr>\n",
              "                        <th id=\"T_4bd60c22_a07c_11eb_91e0_0242ac1c0002level0_row3\" class=\"row_heading level0 row3\" >useful_knowledge_influence</th>\n",
              "                        <td id=\"T_4bd60c22_a07c_11eb_91e0_0242ac1c0002row3_col0\" class=\"data row3 col0\" >-0.122444</td>\n",
              "                        <td id=\"T_4bd60c22_a07c_11eb_91e0_0242ac1c0002row3_col1\" class=\"data row3 col1\" >0.291068</td>\n",
              "                        <td id=\"T_4bd60c22_a07c_11eb_91e0_0242ac1c0002row3_col2\" class=\"data row3 col2\" >0.217969</td>\n",
              "                        <td id=\"T_4bd60c22_a07c_11eb_91e0_0242ac1c0002row3_col3\" class=\"data row3 col3\" >1.000000</td>\n",
              "                        <td id=\"T_4bd60c22_a07c_11eb_91e0_0242ac1c0002row3_col4\" class=\"data row3 col4\" >0.167501</td>\n",
              "                        <td id=\"T_4bd60c22_a07c_11eb_91e0_0242ac1c0002row3_col5\" class=\"data row3 col5\" >-0.105580</td>\n",
              "                        <td id=\"T_4bd60c22_a07c_11eb_91e0_0242ac1c0002row3_col6\" class=\"data row3 col6\" >0.078794</td>\n",
              "                        <td id=\"T_4bd60c22_a07c_11eb_91e0_0242ac1c0002row3_col7\" class=\"data row3 col7\" >0.021116</td>\n",
              "                        <td id=\"T_4bd60c22_a07c_11eb_91e0_0242ac1c0002row3_col8\" class=\"data row3 col8\" >-0.126351</td>\n",
              "            </tr>\n",
              "            <tr>\n",
              "                        <th id=\"T_4bd60c22_a07c_11eb_91e0_0242ac1c0002level0_row4\" class=\"row_heading level0 row4\" >social_impact_influence</th>\n",
              "                        <td id=\"T_4bd60c22_a07c_11eb_91e0_0242ac1c0002row4_col0\" class=\"data row4 col0\" >-0.258122</td>\n",
              "                        <td id=\"T_4bd60c22_a07c_11eb_91e0_0242ac1c0002row4_col1\" class=\"data row4 col1\" >0.165536</td>\n",
              "                        <td id=\"T_4bd60c22_a07c_11eb_91e0_0242ac1c0002row4_col2\" class=\"data row4 col2\" >0.115899</td>\n",
              "                        <td id=\"T_4bd60c22_a07c_11eb_91e0_0242ac1c0002row4_col3\" class=\"data row4 col3\" >0.167501</td>\n",
              "                        <td id=\"T_4bd60c22_a07c_11eb_91e0_0242ac1c0002row4_col4\" class=\"data row4 col4\" >1.000000</td>\n",
              "                        <td id=\"T_4bd60c22_a07c_11eb_91e0_0242ac1c0002row4_col5\" class=\"data row4 col5\" >0.186236</td>\n",
              "                        <td id=\"T_4bd60c22_a07c_11eb_91e0_0242ac1c0002row4_col6\" class=\"data row4 col6\" >0.067640</td>\n",
              "                        <td id=\"T_4bd60c22_a07c_11eb_91e0_0242ac1c0002row4_col7\" class=\"data row4 col7\" >0.045318</td>\n",
              "                        <td id=\"T_4bd60c22_a07c_11eb_91e0_0242ac1c0002row4_col8\" class=\"data row4 col8\" >0.024103</td>\n",
              "            </tr>\n",
              "            <tr>\n",
              "                        <th id=\"T_4bd60c22_a07c_11eb_91e0_0242ac1c0002level0_row5\" class=\"row_heading level0 row5\" >work_variety_influence</th>\n",
              "                        <td id=\"T_4bd60c22_a07c_11eb_91e0_0242ac1c0002row5_col0\" class=\"data row5 col0\" >-0.111209</td>\n",
              "                        <td id=\"T_4bd60c22_a07c_11eb_91e0_0242ac1c0002row5_col1\" class=\"data row5 col1\" >-0.090183</td>\n",
              "                        <td id=\"T_4bd60c22_a07c_11eb_91e0_0242ac1c0002row5_col2\" class=\"data row5 col2\" >0.036075</td>\n",
              "                        <td id=\"T_4bd60c22_a07c_11eb_91e0_0242ac1c0002row5_col3\" class=\"data row5 col3\" >-0.105580</td>\n",
              "                        <td id=\"T_4bd60c22_a07c_11eb_91e0_0242ac1c0002row5_col4\" class=\"data row5 col4\" >0.186236</td>\n",
              "                        <td id=\"T_4bd60c22_a07c_11eb_91e0_0242ac1c0002row5_col5\" class=\"data row5 col5\" >1.000000</td>\n",
              "                        <td id=\"T_4bd60c22_a07c_11eb_91e0_0242ac1c0002row5_col6\" class=\"data row5 col6\" >0.334072</td>\n",
              "                        <td id=\"T_4bd60c22_a07c_11eb_91e0_0242ac1c0002row5_col7\" class=\"data row5 col7\" >0.257397</td>\n",
              "                        <td id=\"T_4bd60c22_a07c_11eb_91e0_0242ac1c0002row5_col8\" class=\"data row5 col8\" >0.050366</td>\n",
              "            </tr>\n",
              "            <tr>\n",
              "                        <th id=\"T_4bd60c22_a07c_11eb_91e0_0242ac1c0002level0_row6\" class=\"row_heading level0 row6\" >creative_work_influence</th>\n",
              "                        <td id=\"T_4bd60c22_a07c_11eb_91e0_0242ac1c0002row6_col0\" class=\"data row6 col0\" >-0.199658</td>\n",
              "                        <td id=\"T_4bd60c22_a07c_11eb_91e0_0242ac1c0002row6_col1\" class=\"data row6 col1\" >0.125252</td>\n",
              "                        <td id=\"T_4bd60c22_a07c_11eb_91e0_0242ac1c0002row6_col2\" class=\"data row6 col2\" >0.267343</td>\n",
              "                        <td id=\"T_4bd60c22_a07c_11eb_91e0_0242ac1c0002row6_col3\" class=\"data row6 col3\" >0.078794</td>\n",
              "                        <td id=\"T_4bd60c22_a07c_11eb_91e0_0242ac1c0002row6_col4\" class=\"data row6 col4\" >0.067640</td>\n",
              "                        <td id=\"T_4bd60c22_a07c_11eb_91e0_0242ac1c0002row6_col5\" class=\"data row6 col5\" >0.334072</td>\n",
              "                        <td id=\"T_4bd60c22_a07c_11eb_91e0_0242ac1c0002row6_col6\" class=\"data row6 col6\" >1.000000</td>\n",
              "                        <td id=\"T_4bd60c22_a07c_11eb_91e0_0242ac1c0002row6_col7\" class=\"data row6 col7\" >0.381055</td>\n",
              "                        <td id=\"T_4bd60c22_a07c_11eb_91e0_0242ac1c0002row6_col8\" class=\"data row6 col8\" >0.093541</td>\n",
              "            </tr>\n",
              "            <tr>\n",
              "                        <th id=\"T_4bd60c22_a07c_11eb_91e0_0242ac1c0002level0_row7\" class=\"row_heading level0 row7\" >challenging_work_influence</th>\n",
              "                        <td id=\"T_4bd60c22_a07c_11eb_91e0_0242ac1c0002row7_col0\" class=\"data row7 col0\" >-0.099173</td>\n",
              "                        <td id=\"T_4bd60c22_a07c_11eb_91e0_0242ac1c0002row7_col1\" class=\"data row7 col1\" >0.277197</td>\n",
              "                        <td id=\"T_4bd60c22_a07c_11eb_91e0_0242ac1c0002row7_col2\" class=\"data row7 col2\" >0.341774</td>\n",
              "                        <td id=\"T_4bd60c22_a07c_11eb_91e0_0242ac1c0002row7_col3\" class=\"data row7 col3\" >0.021116</td>\n",
              "                        <td id=\"T_4bd60c22_a07c_11eb_91e0_0242ac1c0002row7_col4\" class=\"data row7 col4\" >0.045318</td>\n",
              "                        <td id=\"T_4bd60c22_a07c_11eb_91e0_0242ac1c0002row7_col5\" class=\"data row7 col5\" >0.257397</td>\n",
              "                        <td id=\"T_4bd60c22_a07c_11eb_91e0_0242ac1c0002row7_col6\" class=\"data row7 col6\" >0.381055</td>\n",
              "                        <td id=\"T_4bd60c22_a07c_11eb_91e0_0242ac1c0002row7_col7\" class=\"data row7 col7\" >1.000000</td>\n",
              "                        <td id=\"T_4bd60c22_a07c_11eb_91e0_0242ac1c0002row7_col8\" class=\"data row7 col8\" >0.125343</td>\n",
              "            </tr>\n",
              "            <tr>\n",
              "                        <th id=\"T_4bd60c22_a07c_11eb_91e0_0242ac1c0002level0_row8\" class=\"row_heading level0 row8\" >participated_in_other_projects</th>\n",
              "                        <td id=\"T_4bd60c22_a07c_11eb_91e0_0242ac1c0002row8_col0\" class=\"data row8 col0\" >0.213443</td>\n",
              "                        <td id=\"T_4bd60c22_a07c_11eb_91e0_0242ac1c0002row8_col1\" class=\"data row8 col1\" >0.095026</td>\n",
              "                        <td id=\"T_4bd60c22_a07c_11eb_91e0_0242ac1c0002row8_col2\" class=\"data row8 col2\" >0.239455</td>\n",
              "                        <td id=\"T_4bd60c22_a07c_11eb_91e0_0242ac1c0002row8_col3\" class=\"data row8 col3\" >-0.126351</td>\n",
              "                        <td id=\"T_4bd60c22_a07c_11eb_91e0_0242ac1c0002row8_col4\" class=\"data row8 col4\" >0.024103</td>\n",
              "                        <td id=\"T_4bd60c22_a07c_11eb_91e0_0242ac1c0002row8_col5\" class=\"data row8 col5\" >0.050366</td>\n",
              "                        <td id=\"T_4bd60c22_a07c_11eb_91e0_0242ac1c0002row8_col6\" class=\"data row8 col6\" >0.093541</td>\n",
              "                        <td id=\"T_4bd60c22_a07c_11eb_91e0_0242ac1c0002row8_col7\" class=\"data row8 col7\" >0.125343</td>\n",
              "                        <td id=\"T_4bd60c22_a07c_11eb_91e0_0242ac1c0002row8_col8\" class=\"data row8 col8\" >1.000000</td>\n",
              "            </tr>\n",
              "    </tbody></table>"
            ],
            "text/plain": [
              "<pandas.io.formats.style.Styler at 0x7f9426c05610>"
            ]
          },
          "metadata": {
            "tags": []
          },
          "execution_count": 78
        }
      ]
    },
    {
      "cell_type": "markdown",
      "metadata": {
        "id": "8rSff0KMX1Pk"
      },
      "source": [
        "## Conclusão\n",
        "\n",
        "Com a nossa coleta de dados não é possível afirmar se nossa hipótese se confirma, isso devido à baixa variabilidade entre os dados e a baixa correlação entre os dados. Entretanto, é possível observar uma relação entre um `trabalho bem definido` e a `baixa carga de trabalho`, algo que se mostra interessante, já que pode indicar que um trabalho com uma boa definição do que é esperado leva à redução na pressão sobre os envolvidos na atividade. "
      ]
    }
  ]
}